{
  "nbformat": 4,
  "nbformat_minor": 0,
  "metadata": {
    "colab": {
      "name": "Exercicio_aula4_q1q2.ipynb",
      "provenance": [],
      "collapsed_sections": [],
      "authorship_tag": "ABX9TyNbZV5DsaJePTxFFgo6cPBk",
      "include_colab_link": true
    },
    "kernelspec": {
      "name": "python3",
      "display_name": "Python 3"
    },
    "language_info": {
      "name": "python"
    }
  },
  "cells": [
    {
      "cell_type": "markdown",
      "metadata": {
        "id": "view-in-github",
        "colab_type": "text"
      },
      "source": [
        "<a href=\"https://colab.research.google.com/github/Rensoph/Fernando_Rodrigues/blob/main/Exercicio_aula4_q1q2.ipynb\" target=\"_parent\"><img src=\"https://colab.research.google.com/assets/colab-badge.svg\" alt=\"Open In Colab\"/></a>"
      ]
    },
    {
      "cell_type": "markdown",
      "source": [
        "### Exercício:\n",
        "1-Escreva uma função com um valor de retorno que:\n",
        "\n",
        "* tome como input dois argumentos;\n",
        "* execute a soma dos dois parâmetros que foram passados como argumento e atribua o resultado a uma variável;\n",
        "* tenha como valor de retorno o dobro da soma dos dois parâmetros.\n",
        "\n"
      ],
      "metadata": {
        "id": "tps_ZtTnXNc1"
      }
    },
    {
      "cell_type": "code",
      "source": [
        "def dobra_sum(x,y):\n",
        "  z=x+y\n",
        "  return 2*z"
      ],
      "metadata": {
        "id": "URVIRTYwyA8E"
      },
      "execution_count": 2,
      "outputs": []
    },
    {
      "cell_type": "code",
      "source": [
        "dobra_sum(6,5)"
      ],
      "metadata": {
        "colab": {
          "base_uri": "https://localhost:8080/"
        },
        "id": "iMUkDCDDzzuH",
        "outputId": "c9486821-fde8-41a9-e26a-76d18cbc1ed7"
      },
      "execution_count": 5,
      "outputs": [
        {
          "output_type": "execute_result",
          "data": {
            "text/plain": [
              "22"
            ]
          },
          "metadata": {},
          "execution_count": 5
        }
      ]
    },
    {
      "cell_type": "markdown",
      "source": [
        "2-Um objeto de função é um valor que você pode atribuir a uma variável ou passar como um argumento. Por exemplo, do_twice é uma função que usa um objeto de função como argumento e o chama duas vezes:"
      ],
      "metadata": {
        "id": "HjnOUcESx_vK"
      }
    },
    {
      "cell_type": "code",
      "source": [
        "def do_twice (f): \n",
        "    f () \n",
        "    f ()\n"
      ],
      "metadata": {
        "id": "Bun_aH_RXV5w"
      },
      "execution_count": 6,
      "outputs": []
    },
    {
      "cell_type": "markdown",
      "source": [
        "Aqui está um exemplo que usa ```do_twice``` para chamar uma função chamada ```print_spam``` duas vezes.\n"
      ],
      "metadata": {
        "id": "wkH2MM-2XmWw"
      }
    },
    {
      "cell_type": "code",
      "source": [
        "def print_spam (): \n",
        "    print('spam') \n",
        "\n",
        "do_twice (print_spam)"
      ],
      "metadata": {
        "colab": {
          "base_uri": "https://localhost:8080/"
        },
        "id": "-5AAbnqlXc4-",
        "outputId": "7bbb67d2-3cd6-43df-d0de-049707dfb812"
      },
      "execution_count": 7,
      "outputs": [
        {
          "output_type": "stream",
          "name": "stdout",
          "text": [
            "spam\n",
            "spam\n"
          ]
        }
      ]
    },
    {
      "cell_type": "markdown",
      "source": [
        "Digite este exemplo em um script e teste-o.\n",
        "Modifique ```do_twice``` para que sejam necessários dois argumentos, um objeto de função e um valor, e chame a função duas vezes, passando o valor como um argumento.\n",
        "\n",
        "\n",
        "\n",
        "  "
      ],
      "metadata": {
        "id": "KxT5wH-eX3QV"
      }
    },
    {
      "cell_type": "code",
      "source": [
        "def do_twice (tri,z):\n",
        "    h=3*z\n",
        "    tri(h) \n",
        "    tri(h)\n",
        "\n",
        "def tri(h):\n",
        "  print(3*h-3)\n",
        "    \n",
        "    "
      ],
      "metadata": {
        "id": "80lMS8JO06iR"
      },
      "execution_count": 10,
      "outputs": []
    },
    {
      "cell_type": "code",
      "source": [
        "tri(4)\n",
        "do_twice (tri,5)\n"
      ],
      "metadata": {
        "colab": {
          "base_uri": "https://localhost:8080/"
        },
        "id": "eeXcB5783cFG",
        "outputId": "7d41f4c5-c69a-4b6d-f906-19a67d94619d"
      },
      "execution_count": 14,
      "outputs": [
        {
          "output_type": "stream",
          "name": "stdout",
          "text": [
            "9\n",
            "42\n",
            "42\n"
          ]
        }
      ]
    },
    {
      "cell_type": "markdown",
      "source": [
        "Escreva uma versão mais geral de ```print_spam```, chamada ```print_twice```, que use uma _string_ como parâmetro e imprima duas vezes.\n",
        "Use a versão modificada de ``` do_twice``` para chamar ```print_twice``` duas vezes, passando ```'spam'``` como um argumento.\n",
        "Defina uma nova função chamada ```do_four``` que recebe um objeto de função e um valor e chama a função ___quatro___ vezes, passando o valor como um parâmetro. Deve haver apenas duas declarações no corpo desta função, não quatro."
      ],
      "metadata": {
        "id": "p0JQv5wy05PV"
      }
    },
    {
      "cell_type": "code",
      "source": [
        "def print_twice ():\n",
        "    print(\"spam\",\"spam\",sep='--')\n"
      ],
      "metadata": {
        "id": "AjTO1nEBAXCp"
      },
      "execution_count": 15,
      "outputs": []
    },
    {
      "cell_type": "code",
      "source": [
        "print_twice ()"
      ],
      "metadata": {
        "colab": {
          "base_uri": "https://localhost:8080/"
        },
        "id": "znP_4lJeDgww",
        "outputId": "6fe8a2d7-a31d-4bea-d0b4-2b537b3d9b1f"
      },
      "execution_count": 16,
      "outputs": [
        {
          "output_type": "stream",
          "name": "stdout",
          "text": [
            "spam--spam\n"
          ]
        }
      ]
    },
    {
      "cell_type": "code",
      "source": [
        "def do_twice (print_twice): \n",
        "    print_twice() \n",
        "    print_twice()\n"
      ],
      "metadata": {
        "id": "9n2R8-ANFy2r"
      },
      "execution_count": 17,
      "outputs": []
    },
    {
      "cell_type": "code",
      "source": [
        "do_twice (print_twice)"
      ],
      "metadata": {
        "colab": {
          "base_uri": "https://localhost:8080/"
        },
        "id": "MMuWDeiBGS11",
        "outputId": "77f65c21-326a-44c0-8fd0-7539208f4ca7"
      },
      "execution_count": 18,
      "outputs": [
        {
          "output_type": "stream",
          "name": "stdout",
          "text": [
            "spam--spam\n",
            "spam--spam\n"
          ]
        }
      ]
    },
    {
      "cell_type": "code",
      "source": [
        "def do_four (do_twice): \n",
        "    do_twice(print_twice) \n",
        "    do_twice(print_twice)"
      ],
      "metadata": {
        "id": "puNt8gbNISzZ"
      },
      "execution_count": 19,
      "outputs": []
    },
    {
      "cell_type": "code",
      "source": [
        "do_four (do_twice) =)))"
      ],
      "metadata": {
        "colab": {
          "base_uri": "https://localhost:8080/"
        },
        "id": "96Cuy55nJDhT",
        "outputId": "381becfb-8a2e-47db-9fc0-c6619b08bcfb"
      },
      "execution_count": 20,
      "outputs": [
        {
          "output_type": "stream",
          "name": "stdout",
          "text": [
            "spam--spam\n",
            "spam--spam\n",
            "spam--spam\n",
            "spam--spam\n"
          ]
        }
      ]
    },
    {
      "cell_type": "markdown",
      "source": [
        "Esta aula foi tomada quase íntegramente do livro ThinkPython, capítulo 3 http://greenteapress.com/thinkpython/html/thinkpython004.html"
      ],
      "metadata": {
        "id": "quKAFk30X8_o"
      }
    }
  ]
}