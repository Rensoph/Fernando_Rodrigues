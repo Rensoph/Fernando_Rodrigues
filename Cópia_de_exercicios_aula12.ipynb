{
  "nbformat": 4,
  "nbformat_minor": 0,
  "metadata": {
    "colab": {
      "name": "Cópia de exercicios_aula12.ipynb",
      "provenance": [],
      "collapsed_sections": [],
      "authorship_tag": "ABX9TyMrM+nF1b96zdhubpK+9wN0",
      "include_colab_link": true
    },
    "kernelspec": {
      "name": "python3",
      "display_name": "Python 3"
    },
    "language_info": {
      "name": "python"
    }
  },
  "cells": [
    {
      "cell_type": "markdown",
      "metadata": {
        "id": "view-in-github",
        "colab_type": "text"
      },
      "source": [
        "<a href=\"https://colab.research.google.com/github/Rensoph/Fernando_Rodrigues/blob/main/C%C3%B3pia_de_exercicios_aula12.ipynb\" target=\"_parent\"><img src=\"https://colab.research.google.com/assets/colab-badge.svg\" alt=\"Open In Colab\"/></a>"
      ]
    },
    {
      "cell_type": "code",
      "execution_count": 1,
      "metadata": {
        "id": "hUe1aW6Y3b-f"
      },
      "outputs": [],
      "source": [
        "class Ponto:\n",
        "    \"\"\" Cria um novo Ponto, com coordenadas x, y \"\"\"\n",
        "\n",
        "    def __init__(self, x=0, y=0):\n",
        "        \"\"\" Inicializa em x, y o novo ponto criado pela classe \"\"\"\n",
        "        self.x = x\n",
        "        self.y = y\n",
        "\n",
        "    def distancia_da_origem(self):\n",
        "        \"\"\" Calcula minha distânica da origem \"\"\"\n",
        "        return ((self.x ** 2) + (self.y ** 2)) ** 0.5\n",
        "    \n",
        "    def ponto_medio(self, alvo):\n",
        "        \"\"\" Retorna o ponto medio entre esse ponto e o alvo \"\"\"\n",
        "        mx = (self.x + alvo.x)/2\n",
        "        my = (self.y + alvo.y)/2\n",
        "        return Ponto(mx, my)\n",
        "    def reflexao_x(self):\n",
        "      \"\"\" Devolve o ponto (x,y) a partir de (x,-y) \"\"\"\n",
        "      p=Ponto(self.x,-self.y)\n",
        "      #e=Point(p)\n",
        "      return print(p)\n",
        "    def reflexao_y(self):\n",
        "      \"\"\" Devolve o ponto (x,y) a partir de (-x,y) \"\"\"\n",
        "      p=Ponto(-self.x,self.y)\n",
        "      #e=Point(p)\n",
        "      return print(p)\n",
        "    def __str__(self):\n",
        "        return \"({0}, {1})\".format(self.x, self.y)"
      ]
    },
    {
      "cell_type": "code",
      "source": [
        "p = Ponto(3, 4)\n",
        "q = Ponto(5, 12)\n",
        "r = p.ponto_medio(q)\n",
        "t = q.ponto_medio(r)\n",
        "\n",
        "print(r, r.x,r.y)\n",
        "print(t, t.x,t.y)"
      ],
      "metadata": {
        "colab": {
          "base_uri": "https://localhost:8080/"
        },
        "id": "WOh9f_9lDajY",
        "outputId": "faf7729e-c958-4b6d-8c2d-1833bbaabcce"
      },
      "execution_count": 2,
      "outputs": [
        {
          "output_type": "stream",
          "name": "stdout",
          "text": [
            "(4.0, 8.0) 4.0 8.0\n",
            "(4.5, 10.0) 4.5 10.0\n"
          ]
        }
      ]
    },
    {
      "cell_type": "code",
      "source": [
        "print(p)"
      ],
      "metadata": {
        "colab": {
          "base_uri": "https://localhost:8080/"
        },
        "id": "r0VWSjgVGcpA",
        "outputId": "f34c4827-5b58-40dc-bf77-7edf427db01f"
      },
      "execution_count": 3,
      "outputs": [
        {
          "output_type": "stream",
          "name": "stdout",
          "text": [
            "(3, 4)\n"
          ]
        }
      ]
    },
    {
      "cell_type": "markdown",
      "source": [
        "## Exercícios:\n",
        "\n",
        "1) Escreva **uma função** que calcule a distância entre dois pontos, usando a classe `Ponto` que fizemos nesta aula.\n",
        "\n"
      ],
      "metadata": {
        "id": "DtUsM22ZB7Bo"
      }
    },
    {
      "cell_type": "code",
      "source": [
        "def d2p(p1,p2):\n",
        "        \"\"\" Calcula distânica entre dois pontos \"\"\"\n",
        "        return ((p1.x-p2.x )** 2 + (p1.y-p2.y) ** 2)** 0.5\n",
        "        "
      ],
      "metadata": {
        "id": "losBCGZJEJNh"
      },
      "execution_count": 4,
      "outputs": []
    },
    {
      "cell_type": "code",
      "source": [
        "p1=Ponto(3,4)\n",
        "p2=Ponto(10,6)\n",
        "dist0=d2p(p1,p2)\n",
        "print(p1,p2)\n",
        "print(dist0)"
      ],
      "metadata": {
        "colab": {
          "base_uri": "https://localhost:8080/"
        },
        "id": "FT1iHboLFwja",
        "outputId": "11cf0b39-dd04-4fde-d52c-7ba39f36c69f"
      },
      "execution_count": 5,
      "outputs": [
        {
          "output_type": "stream",
          "name": "stdout",
          "text": [
            "(3, 4) (10, 6)\n",
            "7.280109889280518\n"
          ]
        }
      ]
    },
    {
      "cell_type": "code",
      "source": [
        "\n",
        "a=Ponto(2,-3)\n",
        "b=Ponto(-2,-9)\n",
        "c=d2p(a,b)\n",
        "print(a,b)\n",
        "print(c)\n",
        "print(d2p)"
      ],
      "metadata": {
        "colab": {
          "base_uri": "https://localhost:8080/"
        },
        "id": "p0lOVFWEH_3o",
        "outputId": "8aa76d9b-b932-407a-e057-8c11199c5557"
      },
      "execution_count": 6,
      "outputs": [
        {
          "output_type": "stream",
          "name": "stdout",
          "text": [
            "(2, -3) (-2, -9)\n",
            "7.211102550927978\n",
            "<function d2p at 0x7fea6d42b8c0>\n"
          ]
        }
      ]
    },
    {
      "cell_type": "markdown",
      "source": [
        "2) Adicione um método `reflexao_x` à classe `Ponto` que retorne uma instância de `Ponto` que seja o reflexo **sobre o eixo x**. Por exemplo, o resultado de  `Ponto(3, 5).reflexao_x()` deve ser um ponto com coordenadas  `(3, -5)`. _Imagine um espelho colado no eixo x._\n",
        "\n"
      ],
      "metadata": {
        "id": "8eKy44-wEGxK"
      }
    },
    {
      "cell_type": "code",
      "source": [
        "'''import math\n",
        "from math import *\n",
        "class Point:\n",
        "    \"\"\" Cria um novo Ponto, com coordenadas x, y \"\"\"\n",
        "\n",
        "    def __init__(sel, x=0, y=0):\n",
        "        \"\"\" Inicializa em x, y o novo ponto criado pela classe \"\"\"\n",
        "        sel.x = x\n",
        "        sel.y = y\n",
        "    def __str__(sel):\n",
        "        return \"({0}, {1})\".format(sel.x, -sel.y)\n",
        "    def reflexao_x(sel):\n",
        "      \"\"\" Devolve o ponto (x,y) a partir de (x,-y) \"\"\"\n",
        "      p=Ponto(sel.x,-sel.y)\n",
        "      #e=Point(p)\n",
        "      return print(p)\n",
        "    def reflexao_y(sel):\n",
        "      \"\"\" Devolve o ponto (x,y) a partir de (-x,y) \"\"\"\n",
        "      p=Ponto(-sel.x,sel.y)\n",
        "      #e=Point(p)\n",
        "      return print(p)\n",
        "    def inclinacao_da_origem(sel):'''\n"
      ],
      "metadata": {
        "id": "a9KUuOLrB-Uz",
        "colab": {
          "base_uri": "https://localhost:8080/",
          "height": 105
        },
        "outputId": "280ad385-7686-4117-e38d-d9f39f784cfb"
      },
      "execution_count": 7,
      "outputs": [
        {
          "output_type": "execute_result",
          "data": {
            "text/plain": [
              "'import math\\nfrom math import *\\nclass Point:\\n    \"\"\" Cria um novo Ponto, com coordenadas x, y \"\"\"\\n\\n    def __init__(sel, x=0, y=0):\\n        \"\"\" Inicializa em x, y o novo ponto criado pela classe \"\"\"\\n        sel.x = x\\n        sel.y = y\\n    def __str__(sel):\\n        return \"({0}, {1})\".format(sel.x, -sel.y)\\n    def reflexao_x(sel):\\n      \"\"\" Devolve o ponto (x,y) a partir de (x,-y) \"\"\"\\n      p=Ponto(sel.x,-sel.y)\\n      #e=Point(p)\\n      return print(p)\\n    def reflexao_y(sel):\\n      \"\"\" Devolve o ponto (x,y) a partir de (-x,y) \"\"\"\\n      p=Ponto(-sel.x,sel.y)\\n      #e=Point(p)\\n      return print(p)\\n    def inclinacao_da_origem(sel):'"
            ],
            "application/vnd.google.colaboratory.intrinsic+json": {
              "type": "string"
            }
          },
          "metadata": {},
          "execution_count": 7
        }
      ]
    },
    {
      "cell_type": "code",
      "source": [
        "Ponto(5,4).reflexao_x()  \n",
        "Ponto(12,40).reflexao_y()"
      ],
      "metadata": {
        "colab": {
          "base_uri": "https://localhost:8080/"
        },
        "id": "QTw5eMjuAQ2b",
        "outputId": "fcc266ca-7eac-42b2-9ba8-60255295f27b"
      },
      "execution_count": 8,
      "outputs": [
        {
          "output_type": "stream",
          "name": "stdout",
          "text": [
            "(5, -4)\n",
            "(-12, 40)\n"
          ]
        }
      ]
    },
    {
      "cell_type": "markdown",
      "source": [
        "3) Adicione um método `inclinacao_da_origem` à classe `Ponto`, que retorne a inclinação da linha que une a origem ao `Ponto`. Por exemplo,\n",
        "\n",
        "```python\n",
        ">>> from Ponto import *\n",
        ">>> Ponto(4, 10).inclinacao_origem()\n",
        "2.5\n",
        "```\n",
        "O que pode dar errado com esse programa?"
      ],
      "metadata": {
        "id": "Lxk1bvM0TLgZ"
      }
    },
    {
      "cell_type": "code",
      "source": [
        "import math\n",
        "from math import *\n",
        "class Point:\n",
        "    \"\"\" Cria um novo Ponto, com coordenadas x, y \"\"\"\n",
        "\n",
        "    def __init__(sel, x=0, y=0):\n",
        "        \"\"\" Inicializa em x, y o novo ponto criado pela classe \"\"\"\n",
        "        sel.x = x\n",
        "        sel.y = y\n",
        "    def __str__(sel):\n",
        "        return \"({0}, {1})\".format(sel.x, -sel.y)\n",
        "    def reflexao_x(sel):\n",
        "      \"\"\" Devolve o ponto (x,y) a partir de (x,-y) \"\"\"\n",
        "      p=Ponto(sel.x,-sel.y)\n",
        "      #e=Point(p)\n",
        "      return print(p)\n",
        "    def reflexao_y(sel):\n",
        "      \"\"\" Devolve o ponto (x,y) a partir de (-x,y) \"\"\"\n",
        "      p=Ponto(-sel.x,sel.y)\n",
        "      #e=Point(p)\n",
        "      return print(p)\n",
        "    def inclinacao_da_origem(sel):\n",
        "      \"\"\" Devolve o ângulo de inclinação do ponto em relação ao eixo x \"\"\"\n",
        "      alpha=(180/pi)*atan(sel.y/sel.x)\n",
        "      return print(\"%.1f\"%alpha)\n",
        "    def parametros_reta(sel,sel1):\n",
        "      p=Ponto(sel.x,sel.y)\n",
        "      p1=Ponto(sel1.x,sel1.y)\n",
        "      alpha=atan((sel.y-sel1.y)/(sel.x-sel1.x))\n",
        "      cang=tan(alpha)\n",
        "      clin=sel1.y-cang*sel1.x\n",
        "      return print(Ponto(\"%.4f\"%cang,\"%.4f\"%clin))\n"
      ],
      "metadata": {
        "id": "F3TMRm1TsaDu"
      },
      "execution_count": 9,
      "outputs": []
    },
    {
      "cell_type": "code",
      "source": [
        "Point(5,4).reflexao_x()  \n",
        "Point(12,40).reflexao_y()"
      ],
      "metadata": {
        "colab": {
          "base_uri": "https://localhost:8080/"
        },
        "id": "Cj3Y1YkQrvP_",
        "outputId": "d7a76591-8ce1-4fc3-d200-287eaeb67a2c"
      },
      "execution_count": 10,
      "outputs": [
        {
          "output_type": "stream",
          "name": "stdout",
          "text": [
            "(5, -4)\n",
            "(-12, 40)\n"
          ]
        }
      ]
    },
    {
      "cell_type": "code",
      "source": [
        "Point(5,4).inclinacao_da_origem()\n",
        "Point(12,40).inclinacao_da_origem()\n",
        "Point(5, -4).inclinacao_da_origem()\n",
        "Point(-12, 40).inclinacao_da_origem()\n",
        "Point(1, 1).inclinacao_da_origem()\n",
        "Point(1, 0).inclinacao_da_origem()\n",
        "#Point(0, 2).inclinacao_da_origem()\n",
        "#Não funciona quando x=0."
      ],
      "metadata": {
        "id": "FkFXfGj6TNWh",
        "colab": {
          "base_uri": "https://localhost:8080/"
        },
        "outputId": "10602b12-ecdf-4e6b-9f02-494c6c481f75"
      },
      "execution_count": 11,
      "outputs": [
        {
          "output_type": "stream",
          "name": "stdout",
          "text": [
            "38.7\n",
            "73.3\n",
            "-38.7\n",
            "-73.3\n",
            "45.0\n",
            "0.0\n"
          ]
        }
      ]
    },
    {
      "cell_type": "markdown",
      "source": [
        "4) A equação de uma linha reta é $y = a x  + b$. Os coeficientes $a$ e $b$ descrevem completamente a reta. Escreva um método na classe `Ponto` para que, se uma instância `Ponto` receber outro `Ponto`, calcule a equação da linha reta que une os dois pontos. Deve retornar os dois coeficientes como uma **tupla de dois valores** $(a,b)$. Por exemplo,\n",
        "\n",
        "```python\n",
        ">>> from Ponto import *\n",
        ">>> print(Ponto(4,11).parametros_reta(Ponto(6,15)))\n",
        "(2.0,3.0)\n",
        "```\n",
        "O resultado acima nos diz que a equação da reta é $y = 2 x + 3$. Quando esse método falha?"
      ],
      "metadata": {
        "id": "xBmuLHyp5EQI"
      }
    },
    {
      "cell_type": "code",
      "source": [
        "Point(4,11).parametros_reta(Point(6,15))\n",
        "Point(0,3).parametros_reta(Point(1,1))\n",
        "Point(1,1).parametros_reta(Point(2,2))\n",
        "Point(1,-1).parametros_reta(Point(2,0))\n",
        "Point(4,11).parametros_reta(Point(60,15))\n",
        "Point(100,15).parametros_reta(Point(40,15))\n",
        "\n",
        "Point(-1,1).parametros_reta(Point(-2,2))\n",
        "Point(-1,-1).parametros_reta(Point(2,0))\n",
        "Point(-4,11).parametros_reta(Point(-60,15))\n",
        "Point(-100,15).parametros_reta(Point(40,15))\n",
        "#Point(4,11).parametros_reta(Point(4,15))\n",
        "#O método falha se as coord.x de cada ponto forem iguais."
      ],
      "metadata": {
        "colab": {
          "base_uri": "https://localhost:8080/"
        },
        "id": "Ygf4aH6N5OYR",
        "outputId": "c85a18f8-bf9c-4de0-d8d4-e911fd1c05ed"
      },
      "execution_count": 25,
      "outputs": [
        {
          "output_type": "stream",
          "name": "stdout",
          "text": [
            "(2.0000, 3.0000)\n",
            "(-2.0000, 3.0000)\n",
            "(1.0000, 0.0000)\n",
            "(1.0000, -2.0000)\n",
            "(0.0714, 10.7143)\n",
            "(0.0000, 15.0000)\n",
            "(-1.0000, 0.0000)\n",
            "(0.3333, -0.6667)\n",
            "(-0.0714, 10.7143)\n",
            "(-0.0000, 15.0000)\n"
          ]
        }
      ]
    }
  ]
}