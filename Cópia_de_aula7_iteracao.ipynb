{
  "nbformat": 4,
  "nbformat_minor": 0,
  "metadata": {
    "kernelspec": {
      "display_name": "Python 3",
      "language": "python",
      "name": "python3"
    },
    "language_info": {
      "codemirror_mode": {
        "name": "ipython",
        "version": 3
      },
      "file_extension": ".py",
      "mimetype": "text/x-python",
      "name": "python",
      "nbconvert_exporter": "python",
      "pygments_lexer": "ipython3",
      "version": "3.6.4"
    },
    "colab": {
      "name": "Cópia de aula7-iteracao.ipynb",
      "provenance": [],
      "collapsed_sections": [],
      "include_colab_link": true
    }
  },
  "cells": [
    {
      "cell_type": "markdown",
      "metadata": {
        "id": "view-in-github",
        "colab_type": "text"
      },
      "source": [
        "<a href=\"https://colab.research.google.com/github/Rensoph/Fernando_Rodrigues/blob/main/C%C3%B3pia_de_aula7_iteracao.ipynb\" target=\"_parent\"><img src=\"https://colab.research.google.com/assets/colab-badge.svg\" alt=\"Open In Colab\"/></a>"
      ]
    },
    {
      "cell_type": "markdown",
      "metadata": {
        "id": "LxJx13pf01Au"
      },
      "source": [
        "# Iteração\n",
        "\n",
        "aula baseada no livro: http://openbookproject.net/thinkcs/python/english3e/iteration.html\n",
        "\n",
        "Os computadores costumam ser usados para automatizar tarefas repetitivas. Repetir tarefas idênticas ou similares sem cometer erros é algo que os computadores fazem bem e as pessoas fazem mal.\n",
        "\n",
        "A execução repetida de um conjunto de instruções é chamada de **iteração**. \n",
        "\n",
        "\n",
        "Já vimos a declaração ***for*** em aulas anteriores. Essa é a forma de iteração que você provavelmente usará com mais frequência. \n",
        "\n",
        "\n",
        "Mas neste capítulo, vamos ver a declaração ***while*** - outra maneira de fazer o seu programa fazer iteração, útil em circunstâncias ligeiramente diferentes.\n",
        "\n",
        "Antes de fazermos isso, vamos revisar algumas ideias ..."
      ]
    },
    {
      "cell_type": "markdown",
      "metadata": {
        "id": "7ylPALCo01Ax"
      },
      "source": [
        "## Declaração\n",
        "\n",
        "É possível fazer várias declarações da mesma variável:"
      ]
    },
    {
      "cell_type": "code",
      "metadata": {
        "id": "J6n04cPq01Az",
        "colab": {
          "base_uri": "https://localhost:8080/"
        },
        "outputId": "917e42eb-ddac-46f6-f9a7-14837833a85f"
      },
      "source": [
        "a = 15\n",
        "print(a)\n",
        "a = 17\n",
        "print(a)"
      ],
      "execution_count": null,
      "outputs": [
        {
          "output_type": "stream",
          "name": "stdout",
          "text": [
            "15\n",
            "17\n"
          ]
        }
      ]
    },
    {
      "cell_type": "markdown",
      "metadata": {
        "id": "RDn_rOUh01BC"
      },
      "source": [
        "Em Python, uma **instrução de atribuição** pode tornar duas variáveis iguais, mas como outras atribuições podem alterar uma delas, elas não precisam se manter iguais:"
      ]
    },
    {
      "cell_type": "code",
      "metadata": {
        "id": "k4ut_ihW01BD",
        "colab": {
          "base_uri": "https://localhost:8080/"
        },
        "outputId": "e8e3c728-c95a-4f08-dce5-939d5528241a"
      },
      "source": [
        "x = 5\n",
        "print(x)\n",
        "y = x\n",
        "print(y)\n",
        "y = 8\n",
        "print ('x: ', x, 'y: ', y)"
      ],
      "execution_count": null,
      "outputs": [
        {
          "output_type": "stream",
          "name": "stdout",
          "text": [
            "5\n",
            "5\n",
            "x:  5 y:  8\n"
          ]
        }
      ]
    },
    {
      "cell_type": "markdown",
      "metadata": {
        "id": "T38jdCGj01BK"
      },
      "source": [
        "## Atualizando variáveis\n",
        "\n",
        "Quando uma instrução de atribuição é executada, o interpretador de python segue os seguintes passos:\n",
        "* a expressão do lado direito (ou seja, a expressão que vem depois do token de atribuição ***=***) é avaliada primeiro. Isso produz um valor. \n",
        "* Em seguida, a atribuição é feita, de modo que a variável no lado esquerdo agora se refere ao novo valor.\n",
        "\n",
        "Uma das formas mais comuns de atribuição é uma **atualização**, em que **o novo valor da variável depende de seu valor antigo**. "
      ]
    },
    {
      "cell_type": "code",
      "metadata": {
        "id": "rr1eEWJa01BM",
        "colab": {
          "base_uri": "https://localhost:8080/"
        },
        "outputId": "2507e5d6-c820-463a-8f98-f6b016eec7d9"
      },
      "source": [
        "n = 5\n",
        "print(n)\n",
        "n = 3 * n + 1\n",
        "print(n)"
      ],
      "execution_count": null,
      "outputs": [
        {
          "output_type": "stream",
          "name": "stdout",
          "text": [
            "5\n",
            "16\n"
          ]
        }
      ]
    },
    {
      "cell_type": "markdown",
      "metadata": {
        "id": "7BPLVZsk01BR"
      },
      "source": [
        "### Inicialização\n",
        "\n",
        "É preciso inicializar uma variável antes de usá-la pela primeira vez:"
      ]
    },
    {
      "cell_type": "code",
      "metadata": {
        "id": "neMIP9tS01BS",
        "colab": {
          "base_uri": "https://localhost:8080/",
          "height": 183
        },
        "outputId": "4f23e3bb-010f-45ca-d104-e9b89c1cf147"
      },
      "source": [
        "w = t + 4\n",
        "print(w)"
      ],
      "execution_count": null,
      "outputs": [
        {
          "output_type": "error",
          "ename": "NameError",
          "evalue": "ignored",
          "traceback": [
            "\u001b[0;31m---------------------------------------------------------------------------\u001b[0m",
            "\u001b[0;31mNameError\u001b[0m                                 Traceback (most recent call last)",
            "\u001b[0;32m<ipython-input-4-b9144eddec92>\u001b[0m in \u001b[0;36m<module>\u001b[0;34m()\u001b[0m\n\u001b[0;32m----> 1\u001b[0;31m \u001b[0mw\u001b[0m \u001b[0;34m=\u001b[0m \u001b[0mt\u001b[0m \u001b[0;34m+\u001b[0m \u001b[0;36m4\u001b[0m\u001b[0;34m\u001b[0m\u001b[0;34m\u001b[0m\u001b[0m\n\u001b[0m\u001b[1;32m      2\u001b[0m \u001b[0mprint\u001b[0m\u001b[0;34m(\u001b[0m\u001b[0mw\u001b[0m\u001b[0;34m)\u001b[0m\u001b[0;34m\u001b[0m\u001b[0;34m\u001b[0m\u001b[0m\n",
            "\u001b[0;31mNameError\u001b[0m: name 't' is not defined"
          ]
        }
      ]
    },
    {
      "cell_type": "code",
      "metadata": {
        "id": "szy6kaEI01Ba",
        "colab": {
          "base_uri": "https://localhost:8080/"
        },
        "outputId": "7d340d06-c0e7-442c-b804-6ef2c15b7059"
      },
      "source": [
        "t = 8\n",
        "w = t + 4\n",
        "print(w)"
      ],
      "execution_count": null,
      "outputs": [
        {
          "output_type": "stream",
          "name": "stdout",
          "text": [
            "12\n"
          ]
        }
      ]
    },
    {
      "cell_type": "markdown",
      "metadata": {
        "id": "2fE60B-b01Bh"
      },
      "source": [
        "## O loop ***for*** revisitado\n",
        "\n",
        "Podemos atualizar uma variável dentro de um loop ***for***.\n",
        "\n",
        "Para tal, vamos escrever uma função que calcula a soma de todos os ítens de uma lista."
      ]
    },
    {
      "cell_type": "code",
      "metadata": {
        "id": "e2J35lKi01Bi",
        "colab": {
          "base_uri": "https://localhost:8080/"
        },
        "outputId": "fcf3e1bf-82af-4e83-910c-d9c45bb36c37"
      },
      "source": [
        "def mysum(xs):\n",
        "    \"\"\" Soma todos os números em uma dada lista, e retorna o total. \"\"\"\n",
        "    total = 0                # inicialização da variável total\n",
        "    for x in xs:             # para cada item da lista xs\n",
        "        total += x    # somar o valor anterior ao item atual da lista: total = total + x\n",
        "    return total\n",
        "\n",
        "print(mysum([2,4,6,8]))\n",
        "\n",
        "assert mysum([2, 4, 6, 8])  # declaração para testar a validade das condições da função mysum. Veremos mais a seguir."
      ],
      "execution_count": null,
      "outputs": [
        {
          "output_type": "stream",
          "name": "stdout",
          "text": [
            "20\n"
          ]
        }
      ]
    },
    {
      "cell_type": "markdown",
      "metadata": {
        "id": "u3gslFCt01Bo"
      },
      "source": [
        "## A declaração ***while***"
      ]
    },
    {
      "cell_type": "code",
      "metadata": {
        "id": "rcUi3z1_01Bp",
        "colab": {
          "base_uri": "https://localhost:8080/"
        },
        "outputId": "bc74d6ea-311f-427b-d86a-49eac3c53a25"
      },
      "source": [
        "def soma_ate(n):\n",
        "    \"\"\" Retorna a soma de 1+2+3 ... n \"\"\"\n",
        "    ss  = 0\n",
        "    v = 1\n",
        "    while v <= n:      \n",
        "        ss = ss + v     # ss += v\n",
        "        print('ss = ', ss)\n",
        "        v = v + 1       # v +=1\n",
        "        print('v = ', v)\n",
        "    return ss\n",
        "\n",
        "print(soma_ate(4))"
      ],
      "execution_count": null,
      "outputs": [
        {
          "output_type": "stream",
          "name": "stdout",
          "text": [
            "ss =  1\n",
            "v =  2\n",
            "ss =  3\n",
            "v =  3\n",
            "ss =  6\n",
            "v =  4\n",
            "ss =  10\n",
            "v =  5\n",
            "10\n"
          ]
        }
      ]
    },
    {
      "cell_type": "markdown",
      "metadata": {
        "id": "ycoPzziV01Bu"
      },
      "source": [
        "Mais formalmente, aqui está o fluxo preciso de execução para uma declaração while:\n",
        "\n",
        "* Avalia a condição na linha 5 (`while v <= n:`), gerando um valor ***True*** ou ***False***.\n",
        "* Se o valor for ***False***, saia da instrução ***while*** e continue a execução na próxima instrução (linha 8 neste caso, `return ss`).\n",
        "* Se o valor for ***True***, execute cada uma das instruções no corpo (linhas 6 e 7) e, em seguida, volta para a instrução ***while*** na linha 5.\n",
        "\n",
        "\n",
        "**Atenção**\n",
        "O corpo do loop tem que mudar o valor de uma ou mais variáveis para assegurar que em algum momento a condição do loop será ***False***. Caso contrário, pode-se produzir um **loop infinito**."
      ]
    },
    {
      "cell_type": "markdown",
      "metadata": {
        "id": "D9Crw6hZ01Bx"
      },
      "source": [
        "## Escolhendo entre ***for*** e ***while***\n",
        "\n",
        "* Use um loop ***for*** se você souber, antes de iniciar o loop, o número máximo de vezes que precisará executar o corpo. \n",
        "   * **iteração definida**\n",
        "\n",
        "\n",
        "\n",
        "* Se você precisar repetir algum cálculo até que alguma condição seja atendida e não puder calcular antecipadamente quando (ou se) isso acontecer, você precisará de um loop ***while***.\n",
        "   * **iteração indefinida**\n",
        "\n"
      ]
    },
    {
      "cell_type": "markdown",
      "metadata": {
        "id": "01CDfUmz01By"
      },
      "source": [
        "## Contadores\n",
        "\n",
        "Para contar os digitos de um dado número ***n***, podemos escrever uma função:"
      ]
    },
    {
      "cell_type": "code",
      "metadata": {
        "id": "OCqc2oAg01By",
        "colab": {
          "base_uri": "https://localhost:8080/"
        },
        "outputId": "beb30bbe-1265-4fe5-c67d-f145acc8a53d"
      },
      "source": [
        "def counter(n):\n",
        "    count = 0\n",
        "    while n!=0:\n",
        "        count = count + 1\n",
        "        n = n // 10         # divisão de inteiros\n",
        "    return count\n",
        "\n",
        "counter(71052965982659826562985268)"
      ],
      "execution_count": null,
      "outputs": [
        {
          "output_type": "execute_result",
          "data": {
            "text/plain": [
              "26"
            ]
          },
          "metadata": {},
          "execution_count": 4
        }
      ]
    },
    {
      "cell_type": "markdown",
      "metadata": {
        "id": "KeeOSk2h01B3"
      },
      "source": [
        "Esta função demonstra um importante padrão de computação chamado **contador**. \n",
        "\n",
        "* A contagem de variáveis é inicializada em 0 e, em seguida, incrementada toda vez que o corpo do loop é executado. \n",
        "* Quando o loop acaba, a variável ***count*** contém o resultado - o número total de vezes que o corpo do loop foi executado, que é o mesmo que o número de dígitos."
      ]
    },
    {
      "cell_type": "markdown",
      "metadata": {
        "id": "Yk1cT2-x01B5"
      },
      "source": [
        "Podemos testar a função com a declaração ***assert***:"
      ]
    },
    {
      "cell_type": "code",
      "metadata": {
        "id": "EFHCm6J901B6"
      },
      "source": [
        "assert counter(10002)"
      ],
      "execution_count": null,
      "outputs": []
    },
    {
      "cell_type": "code",
      "metadata": {
        "id": "Bic_9t5T01B_"
      },
      "source": [
        "assert counter(10)"
      ],
      "execution_count": null,
      "outputs": []
    },
    {
      "cell_type": "code",
      "metadata": {
        "id": "f8EO7BfTUWI4",
        "colab": {
          "base_uri": "https://localhost:8080/"
        },
        "outputId": "25389c30-2bb8-4275-a5b6-43da4d23ff71"
      },
      "source": [
        "counter(10)"
      ],
      "execution_count": null,
      "outputs": [
        {
          "output_type": "execute_result",
          "data": {
            "text/plain": [
              "2"
            ]
          },
          "metadata": {},
          "execution_count": 7
        }
      ]
    },
    {
      "cell_type": "code",
      "source": [
        "counter(10002)"
      ],
      "metadata": {
        "colab": {
          "base_uri": "https://localhost:8080/"
        },
        "id": "vnFJsEKKyywD",
        "outputId": "b2eaa816-2d8c-4e94-c086-3b27f180048c"
      },
      "execution_count": null,
      "outputs": [
        {
          "output_type": "execute_result",
          "data": {
            "text/plain": [
              "5"
            ]
          },
          "metadata": {},
          "execution_count": 8
        }
      ]
    },
    {
      "cell_type": "markdown",
      "metadata": {
        "id": "8Qw-TlUc01CD"
      },
      "source": [
        "## Encapsulamento e generalização\n",
        "\n",
        "O **encapsulamento** é o processo de envolver uma parte do código em uma função, permitindo que você tire proveito de todas as vantagens das funções. \n",
        "\n",
        "\n",
        "**Generalização** significa tomar algo específico, como imprimir os múltiplos de 2 e torná-lo mais geral, como imprimir os múltiplos de qualquer inteiro."
      ]
    },
    {
      "cell_type": "markdown",
      "metadata": {
        "id": "jgjHlN7X01CF"
      },
      "source": [
        "## Variáveis locais \n",
        "\n",
        "Variáveis criadas dentro de uma definição de função são **locais**; não é possível acessar uma variável local de fora de sua função inicial. \n",
        "\n",
        "Isso significa que você está livre para ter múltiplas variáveis com o mesmo nome, desde que elas não estejam na mesma função.\n",
        "\n",
        "O Python examina todas as instruções em uma função - se alguma delas atribuir um valor a uma variável, essa é a pista que o Python usa para tornar a variável uma variável local.\n",
        "\n",
        "É comum e perfeitamente legal ter diferentes variáveis locais com o mesmo nome. Em particular, nomes como ***i*** e ***j*** são usados freqüentemente como variáveis de loop. Se você evitar usá-los em uma função só porque os usou em outro lugar, provavelmente tornará o programa mais difícil de ler."
      ]
    },
    {
      "cell_type": "markdown",
      "metadata": {
        "id": "EaB3z30B01CF"
      },
      "source": [
        "## A declaração ***break***\n",
        "\n",
        "A instrução break é usada para deixar imediatamente o corpo do loop. A próxima instrução a ser executada é a primeira após o corpo:"
      ]
    },
    {
      "cell_type": "code",
      "source": [
        "for i in [12, 16, 17, 24, 29]:\n",
        "    if i % 2 == 1:  # If the number is odd\n",
        "       break        #  ... immediately exit the loop\n",
        "    print(i)\n",
        "print(\"done\")"
      ],
      "metadata": {
        "colab": {
          "base_uri": "https://localhost:8080/"
        },
        "id": "fZReXGvmFI7w",
        "outputId": "5a571e48-d3bf-4186-ca39-2a558a424794"
      },
      "execution_count": null,
      "outputs": [
        {
          "output_type": "stream",
          "name": "stdout",
          "text": [
            "12\n",
            "16\n",
            "done\n"
          ]
        }
      ]
    },
    {
      "cell_type": "code",
      "metadata": {
        "id": "AyK5u0ix01CH",
        "colab": {
          "base_uri": "https://localhost:8080/"
        },
        "outputId": "cd9b8445-2ce3-4e2c-a690-5e1da940e1b3"
      },
      "source": [
        "for i in [12, 16, 17, 24, 29]:\n",
        "    if i % 1 == False:  # If the number is odd\n",
        "       break        #  ... immediately exit the loop\n",
        "    print(i)\n",
        "print(\"done\")"
      ],
      "execution_count": null,
      "outputs": [
        {
          "output_type": "stream",
          "name": "stdout",
          "text": [
            "done\n"
          ]
        }
      ]
    },
    {
      "cell_type": "code",
      "source": [
        "for i in [12, 16, 17, 24, 29]:\n",
        "    if i % 1 == 0:  # If the number is odd\n",
        "       break        #  ... immediately exit the loop\n",
        "    print(i)\n",
        "print(\"done\")"
      ],
      "metadata": {
        "colab": {
          "base_uri": "https://localhost:8080/"
        },
        "id": "HlkitFy3E2O0",
        "outputId": "efbebcc9-4109-41c8-f845-385c8d8affb6"
      },
      "execution_count": null,
      "outputs": [
        {
          "output_type": "stream",
          "name": "stdout",
          "text": [
            "done\n"
          ]
        }
      ]
    },
    {
      "cell_type": "code",
      "source": [
        "for i in [12, 16, 17, 24, 29]:\n",
        "    if i % 1 == True:  # If the number is odd\n",
        "       break        #  ... immediately exit the loop\n",
        "    print(i)\n",
        "print(\"done\")"
      ],
      "metadata": {
        "colab": {
          "base_uri": "https://localhost:8080/"
        },
        "id": "I6beKwuME7jC",
        "outputId": "a895c7d8-98ab-4b6a-9e43-429e0abdf71e"
      },
      "execution_count": null,
      "outputs": [
        {
          "output_type": "stream",
          "name": "stdout",
          "text": [
            "12\n",
            "16\n",
            "17\n",
            "24\n",
            "29\n",
            "done\n"
          ]
        }
      ]
    },
    {
      "cell_type": "code",
      "source": [
        "for i in [12, 16, 17, 24, 29]:\n",
        "    if i % 1 == 1:  # If the number is odd\n",
        "       break        #  ... immediately exit the loop\n",
        "    print(i)\n",
        "print(\"done\")"
      ],
      "metadata": {
        "colab": {
          "base_uri": "https://localhost:8080/"
        },
        "id": "YJ42xcZbFCIs",
        "outputId": "61a38039-3566-48d0-824a-4029b4950689"
      },
      "execution_count": null,
      "outputs": [
        {
          "output_type": "stream",
          "name": "stdout",
          "text": [
            "12\n",
            "16\n",
            "17\n",
            "24\n",
            "29\n",
            "done\n"
          ]
        }
      ]
    },
    {
      "cell_type": "markdown",
      "metadata": {
        "id": "O0ZL9AdN01CL"
      },
      "source": [
        "## A declaração ***continue***\n",
        "\n",
        "Esta é uma instrução de fluxo de controle que faz com que o programa pule imediatamente o processamento do resto do corpo do loop, ***para a iteração atual***. Mas o loop ainda continua correndo pelas iterações restantes:"
      ]
    },
    {
      "cell_type": "code",
      "metadata": {
        "id": "qQAvjEWr01CM",
        "colab": {
          "base_uri": "https://localhost:8080/"
        },
        "outputId": "8a6afc60-1258-4157-a182-4baa5fc189a9"
      },
      "source": [
        "for i in [12, 16, 17, 24, 29, 30]:\n",
        "    if i % 2 == 1:      # If the number is odd\n",
        "       continue         # Don't process it\n",
        "    print(i)\n",
        "print(\"done\")"
      ],
      "execution_count": null,
      "outputs": [
        {
          "output_type": "stream",
          "name": "stdout",
          "text": [
            "12\n",
            "16\n",
            "24\n",
            "30\n",
            "done\n"
          ]
        }
      ]
    },
    {
      "cell_type": "code",
      "source": [
        "n = 1\n",
        "while n <= 30 :\n",
        "    if n % 5 == 0:\n",
        "        print(n)\n",
        "    n = n + 1"
      ],
      "metadata": {
        "colab": {
          "base_uri": "https://localhost:8080/"
        },
        "id": "DOSye3UKNH4S",
        "outputId": "d3856637-d793-4d09-fcbf-f9b8e46cd308"
      },
      "execution_count": null,
      "outputs": [
        {
          "output_type": "stream",
          "name": "stdout",
          "text": [
            "5\n",
            "10\n",
            "15\n",
            "20\n",
            "25\n",
            "30\n"
          ]
        }
      ]
    },
    {
      "cell_type": "markdown",
      "metadata": {
        "id": "_L86htJ301CQ"
      },
      "source": [
        "## Exercícios Parte 1\n",
        "\n",
        "1) A **conjectura de Collatz**, diz que \"Todos os inteiros positivos irão eventualmente convergir para 1 usando as regras do Collatz\". Faça um programa que ___verifique___ a conjectura de Collatz para alguns valores. As regras de Collatz são: \n",
        "\n",
        "Dado um número ***n***: \n",
        "   * se ***n*** for par, divida-o por ***2***;\n",
        "   * se ***n*** for ímpar, atualize-o para 3*n + 1;\n",
        "   * repetir até chegar ao valor 1.\n",
        "  \n",
        "  \n"
      ]
    },
    {
      "cell_type": "code",
      "source": [
        "def vercollatz(n):\n",
        "    while n > 1:\n",
        "        if n % 2 == 0:\n",
        "            n=n/2\n",
        "            print(n,n/2)\n",
        "        else:\n",
        "            n=3*n+1\n",
        "            print(n,n/2)"
      ],
      "metadata": {
        "id": "d1cFMJ25UqAk"
      },
      "execution_count": null,
      "outputs": []
    },
    {
      "cell_type": "code",
      "source": [
        "vercollatz(100)"
      ],
      "metadata": {
        "colab": {
          "base_uri": "https://localhost:8080/"
        },
        "id": "7K_P9wXuUvTW",
        "outputId": "203952db-d462-4ca3-eb9e-2b11246daa67"
      },
      "execution_count": null,
      "outputs": [
        {
          "output_type": "stream",
          "name": "stdout",
          "text": [
            "50.0 25.0\n",
            "25.0 12.5\n",
            "76.0 38.0\n",
            "38.0 19.0\n",
            "19.0 9.5\n",
            "58.0 29.0\n",
            "29.0 14.5\n",
            "88.0 44.0\n",
            "44.0 22.0\n",
            "22.0 11.0\n",
            "11.0 5.5\n",
            "34.0 17.0\n",
            "17.0 8.5\n",
            "52.0 26.0\n",
            "26.0 13.0\n",
            "13.0 6.5\n",
            "40.0 20.0\n",
            "20.0 10.0\n",
            "10.0 5.0\n",
            "5.0 2.5\n",
            "16.0 8.0\n",
            "8.0 4.0\n",
            "4.0 2.0\n",
            "2.0 1.0\n",
            "1.0 0.5\n"
          ]
        }
      ]
    },
    {
      "cell_type": "markdown",
      "source": [
        "2) Modifique a função ```counter``` para contar o número de vezes que os dígitos 0 e 5 aparecem em um dado número n. Por exemplo, n = 10568, tem 2 dígitos 0 ou 5. \n",
        "\n",
        "\n",
        "\n"
      ],
      "metadata": {
        "id": "ncbwx1lFHoEz"
      }
    },
    {
      "cell_type": "code",
      "source": [
        "def cntfiveouh(n):\n",
        "    count= 0\n",
        "    while n > 0:\n",
        "        r=n % 10\n",
        "        if r == 0 or r == 5:\n",
        "            count = count + 1\n",
        "        n = n // 10\n",
        "    return print(count,\" zeros e cincos ao total\")\n",
        "    "
      ],
      "metadata": {
        "id": "t4y9UTGPNn9t"
      },
      "execution_count": null,
      "outputs": []
    },
    {
      "cell_type": "code",
      "source": [
        "cntfiveouh(70474107070565096109650)\n",
        "cntfiveouh(70474105)"
      ],
      "metadata": {
        "colab": {
          "base_uri": "https://localhost:8080/"
        },
        "id": "6D0xcAc5Y1i-",
        "outputId": "a850bbd8-0564-4f5e-99bf-8738034c4866"
      },
      "execution_count": null,
      "outputs": [
        {
          "output_type": "stream",
          "name": "stdout",
          "text": [
            "10  zeros e cincos ao total\n",
            "3  zeros e cincos ao total\n"
          ]
        }
      ]
    },
    {
      "cell_type": "markdown",
      "source": [
        "3) Encapsule e generalize a seguinte declaração:\n",
        "\n",
        "\n",
        "\n",
        "```python\n",
        "for i in [12, 16, 17, 24, 29]:\n",
        "    if i % 2 == 1:  # If the number is odd\n",
        "       break        #  ... immediately exit the loop\n",
        "    print(i)\n",
        "print(\"done\")\n",
        "```"
      ],
      "metadata": {
        "id": "jGsTEHacD3qd"
      }
    },
    {
      "cell_type": "code",
      "source": [
        "for i in [12, 16, 17, 24, 29]:\n",
        "    if i % 2 == 1:  # If the number is odd\n",
        "       break        #  ... immediately exit the loop\n",
        "    print(i)\n",
        "print(\"done\")"
      ],
      "metadata": {
        "colab": {
          "base_uri": "https://localhost:8080/"
        },
        "id": "q18peWNT3YTc",
        "outputId": "66c5e25b-ebb5-47d8-fb75-7ca3efef365e"
      },
      "execution_count": null,
      "outputs": [
        {
          "output_type": "stream",
          "name": "stdout",
          "text": [
            "12\n",
            "16\n",
            "done\n"
          ]
        }
      ]
    },
    {
      "cell_type": "code",
      "source": [
        "def par(ns):\n",
        "  print('Para uma lista com,',ns,'elementos.')\n",
        "  for n in ns:\n",
        "      if n % 2 == 1:  # If the number is odd\n",
        "       list(n)\n",
        "       continue #  ... immediately exit the loop\n",
        "      else:\n",
        "       print(list(n),\"São os pares dessa lista\")\n",
        "       break\n",
        "  "
      ],
      "metadata": {
        "id": "HhLjOdYB0Ff7"
      },
      "execution_count": null,
      "outputs": []
    },
    {
      "cell_type": "code",
      "source": [
        "par(30)"
      ],
      "metadata": {
        "colab": {
          "base_uri": "https://localhost:8080/",
          "height": 304
        },
        "id": "sn3Zy_9G2Lor",
        "outputId": "95d323ef-67ff-4b78-f642-3f1a28e22cd5"
      },
      "execution_count": null,
      "outputs": [
        {
          "output_type": "stream",
          "name": "stdout",
          "text": [
            "Para uma lista com, 30 elementos.\n"
          ]
        },
        {
          "output_type": "error",
          "ename": "TypeError",
          "evalue": "ignored",
          "traceback": [
            "\u001b[0;31m---------------------------------------------------------------------------\u001b[0m",
            "\u001b[0;31mTypeError\u001b[0m                                 Traceback (most recent call last)",
            "\u001b[0;32m<ipython-input-155-e996703f1bdb>\u001b[0m in \u001b[0;36m<module>\u001b[0;34m()\u001b[0m\n\u001b[0;32m----> 1\u001b[0;31m \u001b[0mpar\u001b[0m\u001b[0;34m(\u001b[0m\u001b[0;36m30\u001b[0m\u001b[0;34m)\u001b[0m\u001b[0;34m\u001b[0m\u001b[0;34m\u001b[0m\u001b[0m\n\u001b[0m",
            "\u001b[0;32m<ipython-input-154-53d497cee2b5>\u001b[0m in \u001b[0;36mpar\u001b[0;34m(ns)\u001b[0m\n\u001b[1;32m      1\u001b[0m \u001b[0;32mdef\u001b[0m \u001b[0mpar\u001b[0m\u001b[0;34m(\u001b[0m\u001b[0mns\u001b[0m\u001b[0;34m)\u001b[0m\u001b[0;34m:\u001b[0m\u001b[0;34m\u001b[0m\u001b[0;34m\u001b[0m\u001b[0m\n\u001b[1;32m      2\u001b[0m   \u001b[0mprint\u001b[0m\u001b[0;34m(\u001b[0m\u001b[0;34m'Para uma lista com,'\u001b[0m\u001b[0;34m,\u001b[0m\u001b[0mns\u001b[0m\u001b[0;34m,\u001b[0m\u001b[0;34m'elementos.'\u001b[0m\u001b[0;34m)\u001b[0m\u001b[0;34m\u001b[0m\u001b[0;34m\u001b[0m\u001b[0m\n\u001b[0;32m----> 3\u001b[0;31m   \u001b[0;32mfor\u001b[0m \u001b[0mn\u001b[0m \u001b[0;32min\u001b[0m \u001b[0mns\u001b[0m\u001b[0;34m:\u001b[0m\u001b[0;34m\u001b[0m\u001b[0;34m\u001b[0m\u001b[0m\n\u001b[0m\u001b[1;32m      4\u001b[0m       \u001b[0;32mif\u001b[0m \u001b[0mn\u001b[0m \u001b[0;34m%\u001b[0m \u001b[0;36m2\u001b[0m \u001b[0;34m==\u001b[0m \u001b[0;36m1\u001b[0m\u001b[0;34m:\u001b[0m  \u001b[0;31m# If the number is odd\u001b[0m\u001b[0;34m\u001b[0m\u001b[0;34m\u001b[0m\u001b[0m\n\u001b[1;32m      5\u001b[0m        \u001b[0mlist\u001b[0m\u001b[0;34m(\u001b[0m\u001b[0mn\u001b[0m\u001b[0;34m)\u001b[0m\u001b[0;34m\u001b[0m\u001b[0;34m\u001b[0m\u001b[0m\n",
            "\u001b[0;31mTypeError\u001b[0m: 'int' object is not iterable"
          ]
        }
      ]
    },
    {
      "cell_type": "code",
      "source": [
        "from typing import List\n",
        "def seq3np1(n):\n",
        "    \"\"\" Print the 3n+1 sequence from n,\n",
        "        terminating when it reaches 1.\n",
        "    \"\"\"\n",
        "    while n != 1:\n",
        "          print(n, end=\", \")\n",
        "          if n % 2 == 1:        # n is even\n",
        "            n = n // 2\n",
        "          else:                 # n is odd\n",
        "            n = n * 3 + 1\n",
        "          print(n, end=\".\\n\")\n",
        "\n",
        "\n"
      ],
      "metadata": {
        "id": "CtI7Msz50-wo"
      },
      "execution_count": null,
      "outputs": []
    },
    {
      "cell_type": "code",
      "source": [
        "seq3np1(2)"
      ],
      "metadata": {
        "colab": {
          "base_uri": "https://localhost:8080/"
        },
        "id": "c5jcApJMFu_1",
        "outputId": "10e82c91-4bb8-4f82-bcf6-fd553c60f11f"
      },
      "execution_count": null,
      "outputs": [
        {
          "output_type": "stream",
          "name": "stdout",
          "text": [
            "2, 7.\n",
            "7, 3.\n",
            "3, 1.\n"
          ]
        }
      ]
    },
    {
      "cell_type": "code",
      "source": [
        "seq3np1(10)"
      ],
      "metadata": {
        "colab": {
          "base_uri": "https://localhost:8080/"
        },
        "id": "OPK2BD2CFul9",
        "outputId": "c7a6814c-5b30-470e-85dd-1dc8e5588245"
      },
      "execution_count": null,
      "outputs": [
        {
          "output_type": "stream",
          "name": "stdout",
          "text": [
            "10, 31.\n",
            "31, 15.\n",
            "15, 7.\n",
            "7, 3.\n",
            "3, 1.\n"
          ]
        }
      ]
    },
    {
      "cell_type": "code",
      "source": [
        "seq3np1(100)"
      ],
      "metadata": {
        "colab": {
          "base_uri": "https://localhost:8080/"
        },
        "id": "56gHPu6LFuQY",
        "outputId": "d9bcfd89-1473-4b01-f197-b50dcb8cea72"
      },
      "execution_count": null,
      "outputs": [
        {
          "output_type": "stream",
          "name": "stdout",
          "text": [
            "100, 301.\n",
            "301, 150.\n",
            "150, 451.\n",
            "451, 225.\n",
            "225, 112.\n",
            "112, 337.\n",
            "337, 168.\n",
            "168, 505.\n",
            "505, 252.\n",
            "252, 757.\n",
            "757, 378.\n",
            "378, 1135.\n",
            "1135, 567.\n",
            "567, 283.\n",
            "283, 141.\n",
            "141, 70.\n",
            "70, 211.\n",
            "211, 105.\n",
            "105, 52.\n",
            "52, 157.\n",
            "157, 78.\n",
            "78, 235.\n",
            "235, 117.\n",
            "117, 58.\n",
            "58, 175.\n",
            "175, 87.\n",
            "87, 43.\n",
            "43, 21.\n",
            "21, 10.\n",
            "10, 31.\n",
            "31, 15.\n",
            "15, 7.\n",
            "7, 3.\n",
            "3, 1.\n"
          ]
        }
      ]
    },
    {
      "cell_type": "markdown",
      "metadata": {
        "id": "DlANgSf501CV"
      },
      "source": [
        "4) **O método de Newton para raiz quadrada**. Suponha que você queira calcular a raiz quadrada de ***n***. Se você começar com quase qualquer aproximação, poderá calcular uma aproximação melhor (mais próxima da resposta real) com a seguinte fórmula: melhor = (approx + n/approx)/2\n",
        "\n",
        "Usando um _loop_ e repetindo esta fórmula até que a melhor aproximação se aproxime o suficiente da anterior (este \"suficiente\" é arbitrario: podemos considerar uma diferença de 0,001), escreva uma função para calcular a raiz quadrada utilizando o método de Newton.\n",
        "\n",
        "Esse é um exemplo de repetição **indefinida**. Com qual tipo de loop você deve escrever o seu programa?"
      ]
    },
    {
      "cell_type": "code",
      "source": [
        "import math\n",
        "from math import *\n",
        "\n",
        "def s(n):\n",
        "    a=15  \n",
        "    while True:\n",
        "        b =(a+n/a)/2\n",
        "        if abs(a-b)<0.0001:\n",
        "            return b\n",
        "        a=b\n",
        "print(\"%.30f\"%s(25))\n",
        "print(\"%.20f\"%s(49))\n",
        "print(\"%.15f\"%s(81))\n",
        "print(\"%.3f\"%s(80))\n",
        "print(\"%.40f\"%s(169))\n",
        "    "
      ],
      "metadata": {
        "colab": {
          "base_uri": "https://localhost:8080/"
        },
        "id": "95piRuJsghaG",
        "outputId": "daa7419d-b12d-498e-d762-13649a72189b"
      },
      "execution_count": null,
      "outputs": [
        {
          "output_type": "stream",
          "name": "stdout",
          "text": [
            "5.000000000000000000000000000000\n",
            "7.00000000000012256862\n",
            "9.000000000000000\n",
            "8.944\n",
            "13.0000000000000000000000000000000000000000\n"
          ]
        }
      ]
    },
    {
      "cell_type": "code",
      "source": [
        "def s(x):\n",
        "    return x**(1/2)"
      ],
      "metadata": {
        "id": "Rjo-XffujniQ"
      },
      "execution_count": null,
      "outputs": []
    },
    {
      "cell_type": "code",
      "metadata": {
        "id": "B-buPJKe2mGy",
        "colab": {
          "base_uri": "https://localhost:8080/"
        },
        "outputId": "87a18bae-9073-4a45-966e-19086d332dd2"
      },
      "source": [
        "s(2)"
      ],
      "execution_count": null,
      "outputs": [
        {
          "output_type": "execute_result",
          "data": {
            "text/plain": [
              "1.4142135623730951"
            ]
          },
          "metadata": {},
          "execution_count": 80
        }
      ]
    },
    {
      "cell_type": "code",
      "source": [
        "def dnews(x):\n",
        "    return \n",
        "def news(x):\n",
        "    return "
      ],
      "metadata": {
        "id": "IpSe5GrZh2Xa"
      },
      "execution_count": null,
      "outputs": []
    },
    {
      "cell_type": "markdown",
      "metadata": {
        "id": "N2Ec9aeO01CV"
      },
      "source": [
        "# Debugar com print\n",
        "\n",
        "É de extrema importância saber prever possíveis bugs e quando encontrá-los, saber debugar. A primeira ferramenta é utilizando o print em pontos estratégicos do programa.\n",
        "\n",
        "Outra forma de debugar é usando a declaração built-in do Python, ***assert***.\n",
        "\n",
        "\n",
        "Consideramos a seguinte função, que calcula o valor absoluto de um número."
      ]
    },
    {
      "cell_type": "code",
      "metadata": {
        "id": "EeJI2PEG01CW",
        "colab": {
          "base_uri": "https://localhost:8080/"
        },
        "outputId": "2bbe713b-37b0-4203-be62-9cf129be6f40"
      },
      "source": [
        "def valor_modulo(x):\n",
        "    if (x < 0):\n",
        "        return -x\n",
        "    elif (x > 0):\n",
        "        return x\n",
        "\n",
        "print (valor_modulo(-88))\n",
        "\n",
        "print (valor_modulo(12))"
      ],
      "execution_count": null,
      "outputs": [
        {
          "output_type": "stream",
          "name": "stdout",
          "text": [
            "88\n",
            "12\n"
          ]
        }
      ]
    },
    {
      "cell_type": "markdown",
      "metadata": {
        "id": "g57JkpcxvFEm"
      },
      "source": [
        "# Iteração (continuação)\n",
        "\n",
        "Vimos até aqui:\n",
        "* Atualização de variável;\n",
        "* Loop `for`: iteração definida;\n",
        "* Loop `while`: iteração indefinida;\n",
        "* Declarações `break` e `continue`.\n",
        "\n",
        "Agora daremos continuade ao capítulo sobre iteração explorando:\n",
        "* Condicionais encadeadas;\n",
        "* Condicionais aninhadas;\n",
        "* Recursividade."
      ]
    },
    {
      "cell_type": "markdown",
      "metadata": {
        "id": "FgWCGjFutXk_"
      },
      "source": [
        "## Condicionais encadeadas\n",
        "\n",
        "Às vezes há mais de duas possibilidades e precisamos de mais de dois ramos. Uma maneira de expressar uma computação assim é uma condicional encadeada:"
      ]
    },
    {
      "cell_type": "code",
      "metadata": {
        "id": "HBQWvewotXlB"
      },
      "source": [
        "x = 20\n",
        "y = 20.0"
      ],
      "execution_count": null,
      "outputs": []
    },
    {
      "cell_type": "code",
      "metadata": {
        "id": "bsiD9gWPtXlG",
        "colab": {
          "base_uri": "https://localhost:8080/"
        },
        "outputId": "4e0b4b7b-4a56-4b5d-f383-113bf5856883"
      },
      "source": [
        "if x < y:\n",
        "    print('x é menor que y')\n",
        "elif x > y:\n",
        "    print('x é maior que y')\n",
        "else:\n",
        "    print('x e y são iguais')"
      ],
      "execution_count": null,
      "outputs": [
        {
          "output_type": "stream",
          "name": "stdout",
          "text": [
            "x e y são iguais\n"
          ]
        }
      ]
    },
    {
      "cell_type": "markdown",
      "metadata": {
        "id": "bYQdXIQntXlO"
      },
      "source": [
        "```elif``` é uma abreviação de “else if”. Mais uma vez, exatamente um ramo será executado. Não há limite no número de instruções ```elif```. Se houver uma cláusula else, ela precisa estar no final, mas não precisa haver uma obrigatoriamente. Por exemplo:\n",
        "\n",
        "\n",
        "\n",
        "```python\n",
        "if choice == 'a':\n",
        "    draw_a()\n",
        "elif choice == 'b':\n",
        "    draw_b()\n",
        "elif choice == 'c':\n",
        "    draw_c()\n",
        "```\n",
        "\n"
      ]
    },
    {
      "cell_type": "markdown",
      "metadata": {
        "id": "3sWUC6S1tXlS"
      },
      "source": [
        "Cada condição é verificada em ordem:\n",
        "   * Se o primeiro é falso, o próximo é verificado e assim por diante. \n",
        "   * Se uma delas for verdadeira, o ramo correspondente será executado e a instrução será finalizada. \n",
        "   * **Mesmo se mais de uma condição for verdadeira, somente a primeira ramificação verdadeira será executada.**"
      ]
    },
    {
      "cell_type": "markdown",
      "metadata": {
        "id": "wwDF9HtZtXlT"
      },
      "source": [
        "## Condicionais aninhadas\n",
        "Uma condicional também pode ser aninhada dentro de outra. Poderíamos ter escrito o exemplo na seção anterior desta forma:"
      ]
    },
    {
      "cell_type": "code",
      "metadata": {
        "id": "G1SbSFa2tXlT",
        "colab": {
          "base_uri": "https://localhost:8080/"
        },
        "outputId": "754ae964-55ad-49a2-c98f-983c7cd82c4a"
      },
      "source": [
        "x = 2\n",
        "y = 20\n",
        "if x == y:\n",
        "    print('x e y são iguais')\n",
        "else:\n",
        "    if x < y:\n",
        "        print('x é menor que y')\n",
        "    else:\n",
        "        print('x é maior que y')"
      ],
      "execution_count": null,
      "outputs": [
        {
          "output_type": "stream",
          "name": "stdout",
          "text": [
            "x é menor que y\n"
          ]
        }
      ]
    },
    {
      "cell_type": "markdown",
      "metadata": {
        "id": "IaE8JcIztXlX"
      },
      "source": [
        "* A condicional exterior contém dois ramos. \n",
        "* O primeiro ramo contém uma instrução simples. \n",
        "    * O segundo ramo contém outra instrução ```if```, \n",
        "       * que tem outros dois ramos próprios. Esses dois ramos são instruções simples, embora pudessem ser instruções condicionais também.\n",
        "\n",
        "Embora a endentação das instruções evidencie a estrutura das condicionais, condicionais aninhadas se tornam rapidamente  difíceis de ler. ***É uma boa ideia evitá-las quando for possível***.\n",
        "\n",
        "**Operadores lógicos** muitas vezes oferecem uma forma de **simplificar** instruções condicionais aninhadas. Por exemplo, podemos reescrever o seguinte código usando uma única condicional:"
      ]
    },
    {
      "cell_type": "code",
      "metadata": {
        "id": "TZjkQjmBtXlY",
        "colab": {
          "base_uri": "https://localhost:8080/"
        },
        "outputId": "7e708f16-af93-42a9-9b04-0bd7ddc05add"
      },
      "source": [
        "x = 8\n",
        "if 0 < x:\n",
        "    if x < 10:\n",
        "        print('x is a positive single-digit number.')"
      ],
      "execution_count": null,
      "outputs": [
        {
          "output_type": "stream",
          "name": "stdout",
          "text": [
            "x is a positive single-digit number.\n"
          ]
        }
      ]
    },
    {
      "cell_type": "markdown",
      "metadata": {
        "id": "_vJ8EthLtXlb"
      },
      "source": [
        "A instrução ```print``` só é executada se a colocarmos depois de ambas as condicionais, então podemos obter o mesmo efeito com o operador ```and```:"
      ]
    },
    {
      "cell_type": "code",
      "metadata": {
        "id": "gaeRI2bKtXlc",
        "colab": {
          "base_uri": "https://localhost:8080/"
        },
        "outputId": "2b7e288f-e298-4848-8fda-bb58c94776be"
      },
      "source": [
        "x = 8\n",
        "if 0 < x and x < 10:\n",
        "    print('x is a positive single-digit number.')"
      ],
      "execution_count": null,
      "outputs": [
        {
          "output_type": "stream",
          "name": "stdout",
          "text": [
            "x is a positive single-digit number.\n"
          ]
        }
      ]
    },
    {
      "cell_type": "markdown",
      "metadata": {
        "id": "J3UE8UggtXlh"
      },
      "source": [
        "Para este tipo de condição, o Python oferece uma opção mais concisa:"
      ]
    },
    {
      "cell_type": "code",
      "metadata": {
        "id": "w5SDK7VftXli",
        "colab": {
          "base_uri": "https://localhost:8080/"
        },
        "outputId": "ad7fe16e-adfb-4574-98fc-abaf792271f7"
      },
      "source": [
        "x = 8\n",
        "if 0 < x < 10:\n",
        "    print('x is a positive single-digit number.')"
      ],
      "execution_count": null,
      "outputs": [
        {
          "output_type": "stream",
          "name": "stdout",
          "text": [
            "x is a positive single-digit number.\n"
          ]
        }
      ]
    },
    {
      "cell_type": "markdown",
      "metadata": {
        "id": "Tkn24MH2tXlm"
      },
      "source": [
        "## Recursividade\n",
        "É permitido para uma função chamar outra; e também é  permitido e legal para **uma função chamar a si própria**. Pode não ser óbvio por que isso é uma coisa boa, mas na verdade é uma das coisas mais \"mágicas\" que um programa pode fazer. Por exemplo, veja a seguinte função:"
      ]
    },
    {
      "cell_type": "code",
      "metadata": {
        "id": "F4dXm0VJtXln",
        "colab": {
          "base_uri": "https://localhost:8080/"
        },
        "outputId": "4e5870ee-f92d-40a6-b1b3-a5766b455ecd"
      },
      "source": [
        "def countdown(n):\n",
        "    if n <= 0:\n",
        "        print('DECOLAR PARA o ESPAÇO SIDERAL!!!!')\n",
        "    else:\n",
        "        print(n)\n",
        "        countdown(n-1)\n",
        "countdown(-14)\n",
        "countdown(14)"
      ],
      "execution_count": null,
      "outputs": [
        {
          "output_type": "stream",
          "name": "stdout",
          "text": [
            "DECOLAR PARA o ESPAÇO SIDERAL!!!!\n",
            "14\n",
            "13\n",
            "12\n",
            "11\n",
            "10\n",
            "9\n",
            "8\n",
            "7\n",
            "6\n",
            "5\n",
            "4\n",
            "3\n",
            "2\n",
            "1\n",
            "DECOLAR PARA o ESPAÇO SIDERAL!!!!\n"
          ]
        }
      ]
    },
    {
      "cell_type": "markdown",
      "metadata": {
        "id": "wuYq3s5etXlq"
      },
      "source": [
        "Se n for 0 ou negativo, a frase \"DECOLAR PARA o ESPAÇO SIDERAL!!!!\" é exibida. Senão, imprime o valor de ```n``` e então a função countdown é chamada novamente – por si mesma – passando o valor ```n-1``` como argumento.\n",
        "\n",
        "O que acontece se chamarmos esta função assim?"
      ]
    },
    {
      "cell_type": "code",
      "metadata": {
        "id": "VcCNlSkttXlq",
        "colab": {
          "base_uri": "https://localhost:8080/"
        },
        "outputId": "c2d1bdd4-8000-4c10-fdc9-09c651ab27b4"
      },
      "source": [
        "countdown(3)"
      ],
      "execution_count": null,
      "outputs": [
        {
          "output_type": "stream",
          "name": "stdout",
          "text": [
            "3\n",
            "2\n",
            "1\n",
            "DECOLAR PARA o ESPAÇO SIDERAL!!!!\n"
          ]
        }
      ]
    },
    {
      "cell_type": "markdown",
      "metadata": {
        "id": "HG8X1A0QtXlu"
      },
      "source": [
        "A execução de countdown inicia com n=3 e como n é maior que 0, ela produz o valor 3 e então chama a si mesma…\n",
        "\n",
        "   * A execução de countdown inicia com n=2 e como n é maior que 0, ela produz o  valor 2 e então chama a si mesma…\n",
        "\n",
        "      * A execução de countdown inicia com n=1 e como n é maior que 0, ela produz o valor 1 e então chama a si mesma…\n",
        "\n",
        "         * A execução de countdown inicia com n=0 e como n não é maior que 0, ela produz a frase “DECOLAR PARA o ESPAÇO SIDERAL!!!!” e então retorna.\n",
        "\n",
        "         * O countdown que recebeu n=1 retorna.\n",
        "\n",
        "      * O countdown que recebeu n=2 retorna.\n",
        "\n",
        "   * O countdown que recebeu n=3 retorna.\n",
        "\n",
        "E então você está de volta ao ```__main__```."
      ]
    },
    {
      "cell_type": "markdown",
      "metadata": {
        "id": "Ib1yrnGttXlv"
      },
      "source": [
        "Uma função que chama a si mesma é dita recursiva; o processo para executá-la é a recursividade.\n",
        "\n",
        "Como em outro exemplo, podemos escrever uma função que imprima uma string ```s```  n vezes:"
      ]
    },
    {
      "cell_type": "code",
      "metadata": {
        "id": "hMVkevHztXlw"
      },
      "source": [
        "def print_n(s, n):\n",
        "    if n <= 0:\n",
        "        return\n",
        "    print(s)\n",
        "    print_n(s, n-1)"
      ],
      "execution_count": null,
      "outputs": []
    },
    {
      "cell_type": "code",
      "metadata": {
        "id": "Z0gNqXIutXlz",
        "colab": {
          "base_uri": "https://localhost:8080/"
        },
        "outputId": "47b5c411-bb92-41f7-dc57-c62e935b6d2f"
      },
      "source": [
        "print_n(\"Olá\", 9)"
      ],
      "execution_count": null,
      "outputs": [
        {
          "output_type": "stream",
          "name": "stdout",
          "text": [
            "Olá\n",
            "Olá\n",
            "Olá\n",
            "Olá\n",
            "Olá\n",
            "Olá\n",
            "Olá\n",
            "Olá\n",
            "Olá\n"
          ]
        }
      ]
    },
    {
      "cell_type": "markdown",
      "metadata": {
        "id": "-zAlm_O1tXl3"
      },
      "source": [
        "Se n <= 0 a instrução ```return``` causa a saída da função. O fluxo de execução volta imediatamente a quem fez a chamada, e as linhas restantes da função não são executadas.\n",
        "\n",
        "O resto da função é similar ao ```countdown```: ela imprime o string ```s``` e então chama a si mesma para imprimir ```s``` mais n-1 vezes. Então o número de linhas da saída é 1 + (n - 1), até chegar a n.\n",
        "\n",
        "Para exemplos simples como esse, provavelmente seria mais fácil usar um _loop_ ```for```. Mais adiante veremos exemplos que são difíceis de escrever com um loop ```for`` e fáceis de escrever com recursividade, então é bom começar cedo."
      ]
    },
    {
      "cell_type": "markdown",
      "metadata": {
        "id": "ukcGc6MUtXl4"
      },
      "source": [
        "## Exercícios Parte 2\n",
        "https://penseallen.github.io/PensePython2e/05-cond-recur.html\n",
        "\n",
        "1) O módulo time fornece uma função, também chamada time, que devolve a Hora Média de Greenwich na “época”, que é um momento arbitrário usado como ponto de referência. Em sistemas UNIX, a época é primeiro de janeiro de 1970."
      ]
    },
    {
      "cell_type": "code",
      "metadata": {
        "id": "_vNAy-wRtXl5",
        "colab": {
          "base_uri": "https://localhost:8080/"
        },
        "outputId": "796982c5-dd3a-400a-8d0f-6bf5453ec093"
      },
      "source": [
        "import time\n",
        "time.time()"
      ],
      "execution_count": null,
      "outputs": [
        {
          "output_type": "execute_result",
          "data": {
            "text/plain": [
              "1651734155.6724124"
            ]
          },
          "metadata": {},
          "execution_count": 71
        }
      ]
    },
    {
      "cell_type": "markdown",
      "metadata": {
        "id": "6PCPU7YnCYZV"
      },
      "source": [
        "Escreva um script que leia a hora atual e a converta em um tempo em horas, minutos e segundos, mais o número de dias desde a época."
      ]
    },
    {
      "cell_type": "markdown",
      "metadata": {
        "id": "0GPsuxs0CZ2f"
      },
      "source": [
        "2) O último teorema de Fermat diz que não existem números inteiros a, b e c tais que `a**n + b**n == c**n` para quaisquer valores de n maiores que 2.\n",
        "   1. Escreva uma função chamada `check_fermat` que receba quatro parâmetros – a, b, c e n – e verifique se o teorema de Fermat se mantém. Se n for maior que 2 e `a**n + b**n == c**n` o programa deve imprimir, “Holy smokes, Fermat was wrong!” Senão o programa deve exibir “No, that doesn’t work.”\n",
        "\n",
        "   1. Escreva uma função que peça ao usuário para digitar valores para a, b, c e n, os converta em números inteiros e use `check_fermat` para verificar se violam o teorema de Fermat."
      ]
    },
    {
      "cell_type": "markdown",
      "metadata": {
        "id": "Ccx6RkOjCoG0"
      },
      "source": [
        "import math\n",
        "from math import *3) Há um teste simples para ver se é possível formar um triângulo para quaisquer três comprimentos: Se algum dos três comprimentos for maior que a soma dos outros dois, então você não pode formar um triângulo. Senão, você pode. (Se a soma de dois comprimentos igualar o terceiro, eles formam um triângulo chamado “degenerado”.)\n",
        "   1. Escreva uma função chamada `is_triangle` que receba três números inteiros como argumentos, e que imprima “Yes” ou “No”, dependendo da possibilidade de formar ou não um triângulo de gravetos com os comprimentos dados.\n",
        "   1. Escreva uma função que peça ao usuário para digitar três comprimentos de gravetos, os converta em números inteiros e use `is_triangle` para verificar se os gravetos com os comprimentos dados podem formar um triângulo."
      ]
    },
    {
      "cell_type": "code",
      "source": [
        "import math\n",
        "from math import *\n",
        "'''\n",
        "def is_triangle(a,b,c):\n",
        "    if a==abs(b+c):\n",
        "     while abs(a)<=abs(b)+abs(c):\n",
        "      return print(\"Yes\")\n",
        "    else:\n",
        "      if b==abs(a+c):\n",
        "       while abs(b)<=abs(a)+abs(c):\n",
        "        return print(\"Yes\")\n",
        "      else:\n",
        "        if c==abs(b+a):\n",
        "         while abs(c)<=abs(b)+abs(a):\n",
        "          return print(\"Yes\")\n",
        "        else: \n",
        "          print(\"no\")\n",
        "'''    \n",
        "\n",
        "\n",
        "def is_triangle(a,b,c):\n",
        "  if abs(a)<=abs(b)+abs(c) and abs(b)<=abs(a)+abs(c) and abs(c)<=abs(b)+abs(a):\n",
        "    print(\"yes\")\n",
        "  else:\n",
        "    print(\"no\")"
      ],
      "metadata": {
        "id": "5BIAWJT6Ee-3"
      },
      "execution_count": null,
      "outputs": []
    },
    {
      "cell_type": "code",
      "source": [
        "is_triangle(7,3,3)\n",
        "is_triangle(5,4,1)\n",
        "is_triangle(5,1,2)\n",
        "is_triangle(2,2,2)\n",
        "is_triangle(5,1,4)\n",
        "is_triangle(7,7,3)"
      ],
      "metadata": {
        "colab": {
          "base_uri": "https://localhost:8080/"
        },
        "id": "WVYqvnA_Whb4",
        "outputId": "76ec0da3-72e3-44b8-c4be-85a2cc84d128"
      },
      "execution_count": null,
      "outputs": [
        {
          "output_type": "stream",
          "name": "stdout",
          "text": [
            "no\n",
            "yes\n",
            "no\n",
            "yes\n",
            "yes\n",
            "yes\n"
          ]
        }
      ]
    },
    {
      "cell_type": "code",
      "source": [
        "import math\n",
        "from math import *\n",
        "\n",
        "def is_triangle2(a,b,c):\n",
        "  for i in [a+c,a+b,b+c]:\n",
        "    while i<=abs(i+c):"
      ],
      "metadata": {
        "id": "CSh11yvrVRiw"
      },
      "execution_count": null,
      "outputs": []
    },
    {
      "cell_type": "code",
      "source": [
        ""
      ],
      "metadata": {
        "colab": {
          "base_uri": "https://localhost:8080/"
        },
        "id": "8QRxvFuOKBhG",
        "outputId": "ece76f90-4f72-4220-e6a4-de5e2c26f9ac"
      },
      "execution_count": null,
      "outputs": [
        {
          "output_type": "stream",
          "name": "stdout",
          "text": [
            "No\n",
            "Yes\n",
            "No\n",
            "No\n",
            "Yes\n"
          ]
        }
      ]
    },
    {
      "cell_type": "code",
      "source": [
        ""
      ],
      "metadata": {
        "id": "ZepFJvGZKI3n"
      },
      "execution_count": null,
      "outputs": []
    },
    {
      "cell_type": "markdown",
      "metadata": {
        "id": "y_tsQq67C73t"
      },
      "source": [
        "4) Leia a próxima função e veja se consegue compreender o que ela faz (veja os exemplos no Capítulo 4). Então execute-a e veja se acertou."
      ]
    },
    {
      "cell_type": "code",
      "metadata": {
        "id": "p1LUrtA2C99E"
      },
      "source": [
        "def draw(t, length, n):\n",
        "    '''\n",
        "    t: turtle ou ColabTurtle\n",
        "    length: comprimento da linha\n",
        "    n: número de iterações. deve ser maior que zero.\n",
        "    '''\n",
        "    if n == 0:\n",
        "        return\n",
        "    angle = 50\n",
        "    t.forward(length * n)\n",
        "    t.left(angle)\n",
        "    draw(t, length, n-1)\n",
        "    t.right(2 * angle)\n",
        "    draw(t, length, n-1)\n",
        "    t.left(angle)\n",
        "    t.backward(length * n)"
      ],
      "execution_count": null,
      "outputs": []
    },
    {
      "cell_type": "markdown",
      "metadata": {
        "id": "WpeZVhIBElfQ"
      },
      "source": [
        "5) A curva de Koch é um fractal que parece com o da Figura abaixo. \n",
        "![](https://github.com/PenseAllen/PensePython2e/raw/master/fig/tnkp_0502.png)\n",
        "\n",
        "Para desenhar uma curva de Koch com o comprimento x, tudo o que você tem que fazer é:\n",
        "\n",
        "1. Desenhe uma curva de Koch com o comprimento x/3.\n",
        "\n",
        "1. Vire 60 graus à esquerda.\n",
        "\n",
        "1. Desenhe uma curva de Koch com o comprimento x/3.\n",
        "\n",
        "1. Vire 120 graus à direita.\n",
        "\n",
        "1. Desenhe uma curva de Koch com o comprimento x/3.\n",
        "\n",
        "1. Vire 60 graus à esquerda.\n",
        "\n",
        "1. Desenhe uma curva de Koch com o comprimento x/3.\n",
        "\n",
        "\n",
        "A exceção é se x for menor que 3: neste caso, você pode desenhar apenas uma linha reta com o comprimento x.\n",
        "\n",
        "1. Escreva uma função chamada `koch` que receba um `turtle` (usar [trinket](https://trinket.io/turtle)) e um comprimento como parâmetros, e use o `turtle` para desenhar uma curva de Koch com o comprimento dado.\n",
        "\n",
        "1. Escreva uma função chamada `snowflake` que desenhe três curvas de Koch para fazer o traçado de um floco de neve.\n",
        "\n",
        "1. A curva de Koch pode ser generalizada de vários modos. Veja exemplos em http://en.wikipedia.org/wiki/Koch_snowflake e implemente o seu favorito."
      ]
    }
  ]
}