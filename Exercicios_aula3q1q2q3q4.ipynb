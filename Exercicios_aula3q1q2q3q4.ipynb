{
  "nbformat": 4,
  "nbformat_minor": 0,
  "metadata": {
    "colab": {
      "name": "Untitled1.ipynb",
      "provenance": [],
      "authorship_tag": "ABX9TyO6BBliOSDsWNCIG/pH5OW6",
      "include_colab_link": true
    },
    "kernelspec": {
      "name": "python3",
      "display_name": "Python 3"
    },
    "language_info": {
      "name": "python"
    }
  },
  "cells": [
    {
      "cell_type": "markdown",
      "metadata": {
        "id": "view-in-github",
        "colab_type": "text"
      },
      "source": [
        "<a href=\"https://colab.research.google.com/github/Rensoph/Fernando_Rodrigues/blob/main/Exercicios_aula3q1q2q3q4.ipynb\" target=\"_parent\"><img src=\"https://colab.research.google.com/assets/colab-badge.svg\" alt=\"Open In Colab\"/></a>"
      ]
    },
    {
      "cell_type": "code",
      "source": [
        "import math\n",
        "from math import *\n"
      ],
      "metadata": {
        "id": "4_YVJI10zG-Y"
      },
      "execution_count": 41,
      "outputs": []
    },
    {
      "cell_type": "markdown",
      "source": [
        "## Exercícios:\n",
        "###1- Crie uma funcão que tome um argumento e imprima o valor e o tipo dele.\n"
      ],
      "metadata": {
        "id": "3AaVGRSryhX1"
      }
    },
    {
      "cell_type": "code",
      "source": [
        "def par(n):\n",
        "  x=range(0,n,2)\n",
        "  if n<20:\n",
        "    print(list(x),type(x))\n",
        "  elif n>19:\n",
        "    print(\"só vale para n<20\")\n",
        "  else:\n",
        "    StopIteration\n",
        "    par(n)\n",
        "\n",
        "def impar(n):\n",
        "  x=range(1,n,2)\n",
        "  if n<20:\n",
        "    print(list(x),type(x))\n",
        "  elif n>19:\n",
        "    print(\"a função só vale para n<20\")\n",
        "  else:\n",
        "    StopIteration\n",
        "    impar(n)\n",
        "    "
      ],
      "metadata": {
        "id": "iDX3bDweymrP"
      },
      "execution_count": 42,
      "outputs": []
    },
    {
      "cell_type": "code",
      "source": [
        "par(10)\n",
        "impar(10)"
      ],
      "metadata": {
        "colab": {
          "base_uri": "https://localhost:8080/"
        },
        "id": "azPWMswc8MmM",
        "outputId": "7de1b3a0-4a25-4e00-8b9c-e50eb65b8dfc"
      },
      "execution_count": 43,
      "outputs": [
        {
          "output_type": "stream",
          "name": "stdout",
          "text": [
            "[0, 2, 4, 6, 8] <class 'range'>\n",
            "[1, 3, 5, 7, 9] <class 'range'>\n"
          ]
        }
      ]
    },
    {
      "cell_type": "code",
      "source": [
        "par(19)\n",
        "impar(19)"
      ],
      "metadata": {
        "colab": {
          "base_uri": "https://localhost:8080/"
        },
        "id": "3enN3GSrDHXH",
        "outputId": "bd719dc6-956b-48b7-d72b-511c12d5a3a0"
      },
      "execution_count": 44,
      "outputs": [
        {
          "output_type": "stream",
          "name": "stdout",
          "text": [
            "[0, 2, 4, 6, 8, 10, 12, 14, 16, 18] <class 'range'>\n",
            "[1, 3, 5, 7, 9, 11, 13, 15, 17] <class 'range'>\n"
          ]
        }
      ]
    },
    {
      "cell_type": "code",
      "source": [
        "par(20)\n",
        "impar(20)"
      ],
      "metadata": {
        "colab": {
          "base_uri": "https://localhost:8080/"
        },
        "id": "BBuq-dbsMt29",
        "outputId": "4ab464e4-717e-4656-a486-0628169104f4"
      },
      "execution_count": 45,
      "outputs": [
        {
          "output_type": "stream",
          "name": "stdout",
          "text": [
            "só vale para n<20\n",
            "a função só vale para n<20\n"
          ]
        }
      ]
    },
    {
      "cell_type": "code",
      "source": [
        "par(25) #dá um erro bem feio resolvido com o comando <StopIteration>\n",
        "impar(25)"
      ],
      "metadata": {
        "colab": {
          "base_uri": "https://localhost:8080/"
        },
        "id": "FoLb9CLwC4vt",
        "outputId": "7bb4fc1f-8e14-4988-aa79-493ce4ac51e7"
      },
      "execution_count": 46,
      "outputs": [
        {
          "output_type": "stream",
          "name": "stdout",
          "text": [
            "só vale para n<20\n",
            "a função só vale para n<20\n"
          ]
        }
      ]
    },
    {
      "cell_type": "markdown",
      "source": [
        "###2- Crie uma função que calcule e imprima velocidade media de um objeto a partir de uma posição inicial, a final e o tempo transcorrido para um objeto em MRU. Também crie uma funcão que calcule e imprima a velocidade de um objeto a partir da aceleração constante e o tempo (MRUA) (p.ex. queda libre).\n",
        "\n"
      ],
      "metadata": {
        "id": "VztNA4Ixyo0x"
      }
    },
    {
      "cell_type": "code",
      "source": [
        "def vm(xi,xf,Δt):\n",
        "  vm=(xf-xi)/(Δt)\n",
        "  return print(\"A velocidade média será de v=%.2f\"%vm,\"km/h\")\n",
        "  vm(xi,xf,Δt)"
      ],
      "metadata": {
        "id": "XWL_xZVMNYi3"
      },
      "execution_count": 69,
      "outputs": []
    },
    {
      "cell_type": "code",
      "source": [
        "vm(1,2,3)"
      ],
      "metadata": {
        "colab": {
          "base_uri": "https://localhost:8080/"
        },
        "id": "UAEHsb_HrWnh",
        "outputId": "d8180f9a-be57-44de-e4d3-0243eec9989e"
      },
      "execution_count": 70,
      "outputs": [
        {
          "output_type": "stream",
          "name": "stdout",
          "text": [
            "A velocidade média será de v=0.33 km/h\n"
          ]
        }
      ]
    },
    {
      "cell_type": "code",
      "source": [
        "vm(0,1000,5)"
      ],
      "metadata": {
        "colab": {
          "base_uri": "https://localhost:8080/"
        },
        "id": "yCe9jpAkw3Ob",
        "outputId": "e855581b-949f-44a3-d287-e43fa8c5e632"
      },
      "execution_count": 71,
      "outputs": [
        {
          "output_type": "stream",
          "name": "stdout",
          "text": [
            "A velocidade média será de v=200.00 km/h\n"
          ]
        }
      ]
    },
    {
      "cell_type": "code",
      "source": [
        "vm(3.66,10874,50.3)\n"
      ],
      "metadata": {
        "colab": {
          "base_uri": "https://localhost:8080/"
        },
        "id": "VPM7QXjKxRho",
        "outputId": "e5f0dc7b-4ae4-4307-b1c1-be4675f0913e"
      },
      "execution_count": 72,
      "outputs": [
        {
          "output_type": "stream",
          "name": "stdout",
          "text": [
            "A velocidade média será de v=216.11 km/h\n"
          ]
        }
      ]
    },
    {
      "cell_type": "code",
      "source": [
        "def v(v0,a,Δt):\n",
        "  v=v0+a*(Δt)\n",
        "  return print(\"A velocidade será de v=%.2f\"%v,\"m/s\")\n",
        "  v(v0,a,Δt)"
      ],
      "metadata": {
        "id": "j4vEHgLDyRc7"
      },
      "execution_count": 76,
      "outputs": []
    },
    {
      "cell_type": "code",
      "source": [
        "v(0,-9.8,50)"
      ],
      "metadata": {
        "colab": {
          "base_uri": "https://localhost:8080/"
        },
        "id": "-nDI49tczCYY",
        "outputId": "d5bc4bc1-e9f6-41bc-87a6-5e57a62d7043"
      },
      "execution_count": 77,
      "outputs": [
        {
          "output_type": "stream",
          "name": "stdout",
          "text": [
            "A velocidade será de v=-490.00 m/s\n"
          ]
        }
      ]
    },
    {
      "cell_type": "code",
      "source": [
        "v(400,-9.8,50)"
      ],
      "metadata": {
        "colab": {
          "base_uri": "https://localhost:8080/"
        },
        "id": "fhMzTEwkzn2A",
        "outputId": "2d5f46cd-1c65-4752-dc29-6b6a133de86f"
      },
      "execution_count": 80,
      "outputs": [
        {
          "output_type": "stream",
          "name": "stdout",
          "text": [
            "A velocidade será de v=-90.00 m/s\n"
          ]
        }
      ]
    },
    {
      "cell_type": "code",
      "source": [
        "v(400,2.33,50)"
      ],
      "metadata": {
        "colab": {
          "base_uri": "https://localhost:8080/"
        },
        "id": "JEaTMo6qzzLF",
        "outputId": "f2cfd0d7-6a48-4478-8032-5f12738bbd18"
      },
      "execution_count": 83,
      "outputs": [
        {
          "output_type": "stream",
          "name": "stdout",
          "text": [
            "A velocidade será de v=516.50 m/s\n"
          ]
        }
      ]
    },
    {
      "cell_type": "markdown",
      "source": [
        "###3- Crie uma funcão para calcular o ángulo zenital do sol (da semana passada) tomando como argumento as medidas da altura e o comprimento da sombra.\n"
      ],
      "metadata": {
        "id": "zkA8VHGOxuiW"
      }
    },
    {
      "cell_type": "code",
      "source": [
        "def θα(x,y):\n",
        "  m=y/x\n",
        "  θ=atan(m)\n",
        "#m1=tan(θ)\n",
        "#t1=tan(45)\n",
        "#t2=tan(pi/4)\n",
        "  α=(180*θ)/pi\n",
        "  return print(\"O ângulo zenital formado é: %.5f\"%θ,\"radianos e %.5f\"%α,\"graus\")\n",
        "  θα(x,y)\n",
        "#Verificação das unidades associadas aos cáculos.\n",
        "#print(x,y,m,θ,m1,t1,t2,pi,α,sep=\"|\")"
      ],
      "metadata": {
        "id": "S8dBUXh4z_aR"
      },
      "execution_count": 84,
      "outputs": []
    },
    {
      "cell_type": "code",
      "source": [
        "θα(2,5)"
      ],
      "metadata": {
        "colab": {
          "base_uri": "https://localhost:8080/"
        },
        "id": "Oa9JIM8Kx3H2",
        "outputId": "a9f33968-3c4e-48e5-fede-a5dd5e91287e"
      },
      "execution_count": 85,
      "outputs": [
        {
          "output_type": "stream",
          "name": "stdout",
          "text": [
            "O ângulo zenital formado é: 1.19029 radianos e 68.19859 graus\n"
          ]
        }
      ]
    },
    {
      "cell_type": "code",
      "source": [
        "θα(5,50e-2)"
      ],
      "metadata": {
        "colab": {
          "base_uri": "https://localhost:8080/"
        },
        "id": "XTDH1MjV1XAE",
        "outputId": "1530f5e6-d3a4-406e-f687-89f240a1fe49"
      },
      "execution_count": 86,
      "outputs": [
        {
          "output_type": "stream",
          "name": "stdout",
          "text": [
            "O ângulo zenital formado é: 0.09967 radianos e 5.71059 graus\n"
          ]
        }
      ]
    },
    {
      "cell_type": "markdown",
      "source": [
        "###4- Crie uma função que faça a conversão de uma medida inicialmente em milhas para m, e outra para o inverso; uma de horas para segundos, e o inverso. Utilize estas funções para resolver novamente o primeiro exercício da semana passada (da corrida). Se uma pessoa demora 30 minutos em 4 milhas, qual velocidade media em km/h ? e o tempo medio por kilometro?"
      ],
      "metadata": {
        "id": "cbOgUtHe1o8M"
      }
    },
    {
      "cell_type": "code",
      "source": [
        "def mim(Δsmi):\n",
        "  Δsm=Δsmi/1.61\n",
        "  return print(\"Iserindo,\",Δsmi,\"milhas obtemos:Δs= %.2f\"%Δsm,\"m\")\n",
        "  mim(Δsmi)\n",
        "\n",
        "def mmi(Δsm):\n",
        "  Δsmi=Δsm*1.61\n",
        "  return print(\"Iserindo,\",Δsm,\"metros obtemos:Δs= %.2f\"%Δsmi,\"mi\")\n",
        "  mmi(Δsm)\n",
        "\n",
        "def hs(h):\n",
        "  seg=h*3600\n",
        "  return print(\"Iserindo,\",h,\"horas, obtemos:Δt= %.2f\"%seg,\"s\")\n",
        "  hs(h)\n",
        "\n",
        "def sh(seg):\n",
        "  h=seg/3600\n",
        "  return print(\"Iserindo,\",seg,\"segundos, obtemos:Δt= %.2f\"%h,\"h\")\n",
        "  sh(seg)\n",
        "\n",
        "def vmedio(min,Δsm):\n",
        "  vmedio=60*(Δsm*10**3)/min\n",
        "  return print(\"A velocidade média será de v= %.2f\"%vmedio,\"km/h\")\n",
        "  vmedio(min,Δsm)\n",
        "\n",
        "def tmedio(vmedio):\n",
        "  tm=1/(vmedio)\n",
        "  return print(\"O tempo médio por km será dado por tm=%.6f\"%tm,\"h/km=%.4f\"%(tm*60),\"min/km=%.3f\"%(tm*3600),\"s/km.\")\n",
        "  tmedio(vmedio)"
      ],
      "metadata": {
        "id": "es-YSTk41qUI"
      },
      "execution_count": 123,
      "outputs": []
    },
    {
      "cell_type": "code",
      "source": [
        "mim(4)"
      ],
      "metadata": {
        "colab": {
          "base_uri": "https://localhost:8080/"
        },
        "id": "3Ux7CVIpKYJt",
        "outputId": "fd061418-76bf-449f-88d0-cd363d779dd2"
      },
      "execution_count": 124,
      "outputs": [
        {
          "output_type": "stream",
          "name": "stdout",
          "text": [
            "Iserindo, 4 milhas obtemos:Δs= 2.48 m\n"
          ]
        }
      ]
    },
    {
      "cell_type": "code",
      "source": [
        "mmi(2.48)\n"
      ],
      "metadata": {
        "colab": {
          "base_uri": "https://localhost:8080/"
        },
        "id": "HDJfJs9qMBUy",
        "outputId": "c3fbe066-a7c1-42c3-e6c1-c976962706f9"
      },
      "execution_count": 125,
      "outputs": [
        {
          "output_type": "stream",
          "name": "stdout",
          "text": [
            "Iserindo, 2.48 metros obtemos:Δs= 3.99 mi\n"
          ]
        }
      ]
    },
    {
      "cell_type": "code",
      "source": [
        "hs(1)\n"
      ],
      "metadata": {
        "colab": {
          "base_uri": "https://localhost:8080/"
        },
        "id": "gcEhSXuuMB81",
        "outputId": "498e55fc-8377-4006-b819-a2a28b449114"
      },
      "execution_count": 126,
      "outputs": [
        {
          "output_type": "stream",
          "name": "stdout",
          "text": [
            "Iserindo, 1 horas, obtemos:Δt= 3600.00 s\n"
          ]
        }
      ]
    },
    {
      "cell_type": "code",
      "source": [
        "sh(3600.00)\n"
      ],
      "metadata": {
        "colab": {
          "base_uri": "https://localhost:8080/"
        },
        "id": "62Tiu8poMDIV",
        "outputId": "27b69e2f-6c84-4e0c-c0c8-11813e864db1"
      },
      "execution_count": 127,
      "outputs": [
        {
          "output_type": "stream",
          "name": "stdout",
          "text": [
            "Iserindo, 3600.0 segundos, obtemos:Δt= 1.00 h\n"
          ]
        }
      ]
    },
    {
      "cell_type": "code",
      "source": [
        "vmedio(30,4)\n"
      ],
      "metadata": {
        "colab": {
          "base_uri": "https://localhost:8080/"
        },
        "id": "DncLX-6MMCms",
        "outputId": "33a36225-71e5-495e-acbf-7dccf3051e04"
      },
      "execution_count": 128,
      "outputs": [
        {
          "output_type": "stream",
          "name": "stdout",
          "text": [
            "A velocidade média será de v= 8000.00 km/h\n"
          ]
        }
      ]
    },
    {
      "cell_type": "code",
      "source": [
        "tmedio(8000.00)"
      ],
      "metadata": {
        "colab": {
          "base_uri": "https://localhost:8080/"
        },
        "id": "Rm689lbFMJga",
        "outputId": "1031ab58-9361-4dc6-e155-bdf6965c0690"
      },
      "execution_count": 129,
      "outputs": [
        {
          "output_type": "stream",
          "name": "stdout",
          "text": [
            "O tempo médio por km será dado por tm=0.000125 h/km=0.0075 min/km=0.450 s/km.\n"
          ]
        }
      ]
    },
    {
      "cell_type": "markdown",
      "source": [
        "###5- Crie funções para calcular os outros exemplos das aulas anteriores: IMC, volume de uma esfera, distancia entre pontos de máximos de difração. Decida quais serão os argumentos e o valor retornado.\n",
        "\n"
      ],
      "metadata": {
        "id": "cSsFRsmCNWER"
      }
    },
    {
      "cell_type": "code",
      "source": [
        ""
      ],
      "metadata": {
        "id": "6VuOw9q91nge"
      },
      "execution_count": null,
      "outputs": []
    },
    {
      "cell_type": "code",
      "source": [
        ""
      ],
      "metadata": {
        "id": "gP8RuO0wyuWa"
      },
      "execution_count": null,
      "outputs": []
    }
  ]
}