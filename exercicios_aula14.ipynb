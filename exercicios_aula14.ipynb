{
  "nbformat": 4,
  "nbformat_minor": 0,
  "metadata": {
    "colab": {
      "name": "exercicios_aula14.ipynb",
      "provenance": [],
      "collapsed_sections": [],
      "authorship_tag": "ABX9TyNrS/tlmGwJQnn0IqGMUj7c",
      "include_colab_link": true
    },
    "kernelspec": {
      "name": "python3",
      "display_name": "Python 3"
    },
    "language_info": {
      "name": "python"
    }
  },
  "cells": [
    {
      "cell_type": "markdown",
      "metadata": {
        "id": "view-in-github",
        "colab_type": "text"
      },
      "source": [
        "<a href=\"https://colab.research.google.com/github/Rensoph/Fernando_Rodrigues/blob/main/exercicios_aula14.ipynb\" target=\"_parent\"><img src=\"https://colab.research.google.com/assets/colab-badge.svg\" alt=\"Open In Colab\"/></a>"
      ]
    },
    {
      "cell_type": "markdown",
      "source": [
        "### Exercício:\n",
        " Adicionar um método `__str__` para que os objetos MeuTempo possam se imprimir decentemente.\n",
        "\n",
        "\n"
      ],
      "metadata": {
        "id": "wq7ezhaIwdHD"
      }
    },
    {
      "cell_type": "code",
      "execution_count": null,
      "metadata": {
        "id": "2n8PqU_RiHqO"
      },
      "outputs": [],
      "source": [
        "class  MeuTempo :\n",
        "\n",
        "    def  __init__ ( self ,  hrs = 0 ,  mins = 0 ,  segs = 0 ): \n",
        "        \"\" \"Criar um objeto MeuTempo inicializado para hrs, mins, segs\" \"\" \n",
        "        self.horas  =  hrs \n",
        "        self.minutos  =  mins\n",
        "        self.segundos  =  segs\n",
        "    def __str__(self):\n",
        "        return \"horário 'atual' : {0}h {1}min {2}s\".format(self.horas, self.minutos,self.segundos)"
      ]
    },
    {
      "cell_type": "code",
      "source": [
        "tim1  =  MeuTempo ( 11 ,  59 ,  30 )\n",
        "print(tim1)\n",
        "#print(tim1.horas,\":\",tim1.minutos,\":\",tim1.segundos)"
      ],
      "metadata": {
        "colab": {
          "base_uri": "https://localhost:8080/"
        },
        "id": "okQT28onw9p-",
        "outputId": "adee2955-cb95-4f0d-846c-dd283934f52b"
      },
      "execution_count": null,
      "outputs": [
        {
          "output_type": "stream",
          "name": "stdout",
          "text": [
            "horário 'atual' : 11h 59min 30s\n"
          ]
        }
      ]
    },
    {
      "cell_type": "markdown",
      "source": [
        "## Funções puras  e modificadores\n",
        "Nas próximas seções, escreveremos duas versões de uma função chamada `add_time` , que calcula a soma de dois objetos de tipo MeuTempo. Elas demonstrarão dois tipos de funções: funções puras e modificadoras.\n",
        "\n",
        "A seguir, uma primeira versão \"rascunho\" do `add_time`:"
      ],
      "metadata": {
        "id": "JdgI3gXkwm0n"
      }
    },
    {
      "cell_type": "code",
      "source": [
        "def  add_time ( t1 ,  t2 ): \n",
        "    h  =  t1 . horas  +  t2 . horas \n",
        "    m  =  t1 . minutos  +  t2 . minutos \n",
        "    s  =  t1 . segundos  +  t2 . segundos \n",
        "    sum_t  =  MeuTempo ( h ,  m ,  s ) \n",
        "    return  sum_t"
      ],
      "metadata": {
        "id": "hD7pAHdfitmB"
      },
      "execution_count": null,
      "outputs": []
    },
    {
      "cell_type": "code",
      "source": [
        "hora_atual  =  MeuTempo ( 12 ,  15 ,  30 ) \n",
        "tempo_bolo =  MeuTempo ( 1 ,  10 ,  0 ) \n",
        "bolo_pronto  =  add_time ( hora_atual ,  tempo_bolo ) \n",
        "print(bolo_pronto.horas,\":\",bolo_pronto.minutos,\":\",bolo_pronto.segundos)"
      ],
      "metadata": {
        "colab": {
          "base_uri": "https://localhost:8080/"
        },
        "id": "loa3OFivynip",
        "outputId": "133d1668-3dbe-4937-d7d5-154394efc740"
      },
      "execution_count": null,
      "outputs": [
        {
          "output_type": "stream",
          "name": "stdout",
          "text": [
            "13 : 25 : 30\n"
          ]
        }
      ]
    },
    {
      "cell_type": "markdown",
      "source": [
        "## Convertendo incremento em um método\n",
        "\n",
        "Ao programar orientado a objetos,  é preferível colocar funções que trabalham com objetos MeuTempo na classe MeuTempo, então vamos converter a função `incremento` em um método. "
      ],
      "metadata": {
        "id": "TUZdWJwm0Z-y"
      }
    },
    {
      "cell_type": "code",
      "source": [
        "class  MeuTempo : \n",
        "    def  __init__ ( self ,  hrs = 0 ,  mins = 0 ,  segs = 0 ): \n",
        "        \"\" \"Criar um objeto MeuTempo inicializado para hrs, mins, segs\" \"\" \n",
        "        self.horas  =  hrs \n",
        "        self.minutos  =  mins\n",
        "        self.segundos  =  segs\n",
        "    def __str__(self):\n",
        "        return \"horário 'atual' : {0}h {1}min {2}s\".format(self.horas, self.minutos,self.segundos)     \n",
        "    # Definições de outros métodos anteriores devem ir aqui ... \n",
        "    def  add_time ( t1 ,  t2 ): \n",
        "\n",
        "        h  =  t1.horas  +  t2.horas \n",
        "        m  =  t1.minutos  +  t2.minutos \n",
        "        s  =  t1.segundos  +  t2.segundos \n",
        "\n",
        "        if  s  >=  60 : \n",
        "            s  -=  60 \n",
        "            m  +=  1 \n",
        "\n",
        "        if  m  >=  60 : \n",
        "            m  -=  60 \n",
        "            h  +=  1\n",
        "        \n",
        "            sum_t = MeuTempo ( h ,  m ,  s ) \n",
        "        return  sum_t\n",
        "\n",
        "    def  incremento ( self ,  segs ): \n",
        "        self.segundos  +=  segs \n",
        "\n",
        "        while self.segundos  >=  60 : \n",
        "            self.segundos  -=  60 \n",
        "            self.minutos  +=  1 \n",
        "\n",
        "        while self.minutos  >=  60 : \n",
        "            self.minutos  -=  60 \n",
        "            self.horas  +=  1\n",
        "            "
      ],
      "metadata": {
        "id": "T-bCm0LQ0a94"
      },
      "execution_count": null,
      "outputs": []
    },
    {
      "cell_type": "code",
      "source": [
        "#teste0\n",
        "hora_atual  =  MeuTempo ( 12 ,  15 ,  30 ) \n",
        "tempo_bolo =  MeuTempo ( 1 ,  10 ,  0 ) \n",
        "bolo_pronto  =  add_time ( hora_atual ,  tempo_bolo ) \n",
        "print(bolo_pronto.horas,\":\",bolo_pronto.minutos,\":\",bolo_pronto.segundos)"
      ],
      "metadata": {
        "colab": {
          "base_uri": "https://localhost:8080/"
        },
        "id": "77D3jTFb19-H",
        "outputId": "3d188bfb-bc4f-408e-b5e6-1e14074d45a6"
      },
      "execution_count": null,
      "outputs": [
        {
          "output_type": "stream",
          "name": "stdout",
          "text": [
            "13 : 25 : 30\n"
          ]
        }
      ]
    },
    {
      "cell_type": "code",
      "source": [
        "minha_hora=MeuTempo(13,10,1)\n",
        "minha_hora.incremento(500) #incrementar em 500 segundos = 8 minutos e 20 segundos\n",
        "print(minha_hora.horas,\":\",minha_hora.minutos,\":\",minha_hora.segundos)\n",
        "print(minha_hora)"
      ],
      "metadata": {
        "colab": {
          "base_uri": "https://localhost:8080/"
        },
        "id": "G9y9K26U3Mak",
        "outputId": "486ceba8-705e-449b-e232-008d0402fc57"
      },
      "execution_count": null,
      "outputs": [
        {
          "output_type": "stream",
          "name": "stdout",
          "text": [
            "13 : 18 : 21\n",
            "horário 'atual' : 13h 18min 21s\n"
          ]
        }
      ]
    },
    {
      "cell_type": "code",
      "source": [
        "class  MeuTempo : \n",
        "    def  __init__ ( self ,  hrs = 0 ,  mins = 0 ,  segs = 0 ): \n",
        "        \"\" \"Criar um objeto MeuTempo inicializado para hrs, mins, segs\" \"\" \n",
        "        self.horas  =  hrs \n",
        "        self.minutos  =  mins\n",
        "        self.segundos  =  segs\n",
        "       \n",
        "    def __str__(self):\n",
        "        return \"horário 'atual' : {0}h {1}min {2}s\".format(self.horas, self.minutos,self.segundos)\n",
        "\n",
        "    def  incremento ( self ,  segs ): \n",
        "        self.segundos  +=  segs \n",
        "\n",
        "        while self.segundos  >=  60 : \n",
        "            self.segundos  -=  60 \n",
        "            self.minutos  +=  1 \n",
        "\n",
        "        while self.minutos  >=  60 : \n",
        "            self.minutos  -=  60 \n",
        "            self.horas  +=  1\n",
        "\n",
        "    def to_seconds(self):\n",
        "        \"\"\" Return the number of seconds represented by this instance\"\"\"\n",
        "       # Calculate total seconds to represent\n",
        "        totalsegs = 3600*self.horas +60*self.minutos + self.segundos\n",
        "        self.horas = totalsegs // 3600        # Split in h, m, s\n",
        "        restosegs = totalsegs % 3600\n",
        "        self.minutos = restosegs // 60\n",
        "        self.segundos = restosegs % 60\n",
        "        return totalsegs\n",
        "\n",
        "    def add_time(t1, t2):\n",
        "        segs = t1.to_seconds() + t2.to_seconds()\n",
        "        return MeuTempo(0, 0, segs)\n",
        "    def  depois ( self ,  time2 ): \n",
        "        \"\" \"Retorna True se self for estritamente maior que time2\" \"\" \n",
        "        if  self.horas  >  time2.horas : \n",
        "            return  True \n",
        "        if  self.horas  <  time2.horas : \n",
        "            return  False \n",
        "\n",
        "        if  self.minutos  >  time2.minutos : \n",
        "            return  True \n",
        "        if  self.minutos  <  time2.minutos : \n",
        "            return  False \n",
        "        if  self.segundos  >  time2.segundos : \n",
        "            return  True \n",
        "        return  False\n",
        "    \n"
      ],
      "metadata": {
        "id": "SoV82DvR_fQg"
      },
      "execution_count": null,
      "outputs": []
    },
    {
      "cell_type": "code",
      "source": [
        "#teste1\n",
        "hora_atual  =  MeuTempo ( 12 ,  15 ,  30 ) \n",
        "tempo_bolo =  MeuTempo ( 1 ,  10 ,  0 ) \n",
        "bolo_pronto  =  add_time ( hora_atual ,  tempo_bolo ) \n",
        "print(bolo_pronto.horas,\":\",bolo_pronto.minutos,\":\",bolo_pronto.segundos)"
      ],
      "metadata": {
        "colab": {
          "base_uri": "https://localhost:8080/"
        },
        "id": "kIScNHEsE2dH",
        "outputId": "d9da0b43-77e5-407f-c228-3008a6fa6f40"
      },
      "execution_count": null,
      "outputs": [
        {
          "output_type": "stream",
          "name": "stdout",
          "text": [
            "13 : 25 : 30\n"
          ]
        }
      ]
    },
    {
      "cell_type": "code",
      "source": [
        "minha_hora=MeuTempo(13,10,1)\n",
        "minha_hora.incremento(500) #incrementar em 500 segundos = 8 minutos e 20 segundos\n",
        "print(minha_hora.horas,\":\",minha_hora.minutos,\":\",minha_hora.segundos)\n",
        "print(minha_hora)"
      ],
      "metadata": {
        "colab": {
          "base_uri": "https://localhost:8080/"
        },
        "id": "gSPju_eCE5aV",
        "outputId": "a6bf7efd-d73f-4b6f-fca1-6b3c2c4de3b7"
      },
      "execution_count": null,
      "outputs": [
        {
          "output_type": "stream",
          "name": "stdout",
          "text": [
            "13 : 18 : 21\n",
            "horário 'atual' : 13h 18min 21s\n"
          ]
        }
      ]
    },
    {
      "cell_type": "code",
      "source": [
        "t1  =  MeuTempo ( 10 ,  55 ,  12 ) \n",
        "t2  =  MeuTempo ( 10 ,  48 ,  22 ) \n",
        "print(t1.depois ( t2 ))            # é t1 após t2? \n",
        "print(t2.depois(t1))               # é t2 após t1? "
      ],
      "metadata": {
        "colab": {
          "base_uri": "https://localhost:8080/"
        },
        "id": "Xyzqp9uJRx2C",
        "outputId": "be31db24-507e-492c-812f-fd3dff341665"
      },
      "execution_count": null,
      "outputs": [
        {
          "output_type": "stream",
          "name": "stdout",
          "text": [
            "True\n",
            "False\n"
          ]
        }
      ]
    }
  ]
}