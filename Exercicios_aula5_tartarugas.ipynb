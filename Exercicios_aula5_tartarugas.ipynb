{
  "nbformat": 4,
  "nbformat_minor": 0,
  "metadata": {
    "colab": {
      "name": "Exercicios_aula5_tartarugas.ipynb",
      "provenance": [],
      "collapsed_sections": [],
      "authorship_tag": "ABX9TyMKBb4TnreFY1A08cMjT0J8",
      "include_colab_link": true
    },
    "kernelspec": {
      "name": "python3",
      "display_name": "Python 3"
    },
    "language_info": {
      "name": "python"
    }
  },
  "cells": [
    {
      "cell_type": "markdown",
      "metadata": {
        "id": "view-in-github",
        "colab_type": "text"
      },
      "source": [
        "<a href=\"https://colab.research.google.com/github/Rensoph/Fernando_Rodrigues/blob/main/Exercicios_aula5_tartarugas.ipynb\" target=\"_parent\"><img src=\"https://colab.research.google.com/assets/colab-badge.svg\" alt=\"Open In Colab\"/></a>"
      ]
    },
    {
      "cell_type": "markdown",
      "source": [
        "### Exercícios:\n",
        "1. Modifique o programa da tartaruga (primeiro exemplo) para que, antes de criar a janela, ele solicite que o usuário insira a cor de fundo desejada. Ele deve armazenar as respostas do usuário em uma variável e modificar a cor da janela de acordo com os desejos do usuário. \n",
        "   * ***Dicas***: faça uso da função ***input***, built-in do python\n",
        "   * você pode encontrar uma lista de nomes de cores permitidos em http://www.tcl.tk/man/tcl8.4/TkCmd/colors.htm. Inclui alguns bem incomuns, como “peach puff” e “HotPink” ”***\n",
        "   \n"
      ],
      "metadata": {
        "id": "O3uExhnQCAiw"
      }
    },
    {
      "cell_type": "code",
      "source": [
        "import turtle     \n",
        "from turtle import *\n",
        "jn =Screen()      \n",
        "corfundo=jn.bgcolor(input(\"Insira a cor de fundo 1:\",))\n",
        "joana =Turtle()   \n",
        "\n",
        "joana.fd(50)         \n",
        "\n",
        "joana.lt(90)             \n",
        "joana.fd(30)          \n",
        "\n",
        "jn.mainloop()    \n",
        "\n",
        "ij =Screen()      \n",
        "corfundo=ij.bgcolor(input(\"Insira a cor de fundo 2:\",))\n",
        "maria=Turtle()   \n",
        "\n",
        "maria.bk(90)         \n",
        "\n",
        "maria.rt(60)             \n",
        "maria.bk(70)          \n",
        "\n",
        "ij.mainloop()  "
      ],
      "metadata": {
        "id": "NkxDVigGCRQ_"
      },
      "execution_count": null,
      "outputs": []
    },
    {
      "cell_type": "markdown",
      "source": [
        "2. Faça modificações similares para permitir que o usuário mude a cor da tartaruga durante a execução do programa.\n",
        "   1. Faça o mesmo para a largura da caneta da tartaruga. *Dica: seu diálogo com o usuário retornará uma string, mas o método **pensize** espera que seu argumento seja um **int**. Então, você precisará converter a **string** em um **int** antes de passá-la para **pensize**.*   \n",
        "   \n"
      ],
      "metadata": {
        "id": "b9KkGfx2CcNG"
      }
    },
    {
      "cell_type": "code",
      "source": [
        "import turtle     \n",
        "from turtle import *\n",
        "\n",
        "jn =Screen()      \n",
        "corfundo1=jn.bgcolor(input(\"Insira a cor de fundo 1:\",))\n",
        "\n",
        "joana =Turtle()   \n",
        "corturtle1=color(input(\"Insira a cor da seta 1:\",))            \n",
        "tamanhoturtle1=pensize(input(\"Insira o tamanho da seta 1:\",)) \n",
        "\n",
        "joana.fd(50)         \n",
        "joana.lt(90)             \n",
        "joana.fd(30)          \n",
        "\n",
        "jn.mainloop()    \n",
        "\n",
        "ij =Screen()      \n",
        "corfundo2=ij.bgcolor(input(\"Insira a cor de fundo 2:\",))\n",
        "\n",
        "maria=Turtle()\n",
        "corturtle2=color(input(\"Insira a cor da seta 2:\",))            \n",
        "tamanhoturtle2=pensize(input(\"Insira o tamanho da seta 2:\",)) \n",
        "\n",
        "maria.fd(90)         \n",
        "maria.rt(60)             \n",
        "maria.fd(70)          \n",
        "\n",
        "ij.mainloop()  "
      ],
      "metadata": {
        "id": "6V5sR3BFB-eZ"
      },
      "execution_count": null,
      "outputs": []
    },
    {
      "cell_type": "markdown",
      "source": [
        "3. Investiguem os métodos e tipos do módulo turtle;\n",
        "\n"
      ],
      "metadata": {
        "id": "3mZ1WkNyCuao"
      }
    },
    {
      "cell_type": "code",
      "source": [
        "https://docs.python.org/3/library/turtle.html#turtle-methods"
      ],
      "metadata": {
        "id": "cUFouJIlC2Lg"
      },
      "execution_count": null,
      "outputs": []
    },
    {
      "cell_type": "markdown",
      "source": [
        "4. Desenhe um quadrado, usando a forma de tartaruga, ao invés da flecha, para desenhar.\n",
        "*  mude a velocidade com que a tartaruga faz o desenho\n",
        "   \n"
      ],
      "metadata": {
        "id": "doxL78fFC2kz"
      }
    },
    {
      "cell_type": "code",
      "source": [
        "import turtle     \n",
        "from turtle import *\n",
        "\n",
        "jn=Screen()\n",
        "\n",
        "jn.bgcolor(\"lightblue\")\n",
        "\n",
        "\n",
        "joana=Turtle()\n",
        "joana.shape(\"turtle\")\n",
        "joana.speed(9)\n",
        "\n",
        "for i in range(4):\n",
        "    \n",
        "    joana.forward(100)\n",
        "    joana.left(90)\n",
        "    \n",
        "jn.mainloop()"
      ],
      "metadata": {
        "id": "gNlZ-h5HDFiv"
      },
      "execution_count": null,
      "outputs": []
    },
    {
      "cell_type": "markdown",
      "source": [
        "5. Sabendo que o ângulo interno da ponta de uma estrela de 5 pontas é de 36 graus, desenhe uma estrela em uma janela.\n",
        "![title](https://github.com/malbouis/Python_intro/blob/master/aulas_2019/pics/estrela.png?raw=1)\n",
        "\n"
      ],
      "metadata": {
        "id": "VwW9RPfgDF_H"
      }
    },
    {
      "cell_type": "code",
      "source": [
        "import turtle     \n",
        "from turtle import *\n",
        "\n",
        "jn=Screen()\n",
        "jn.bgcolor(\"lightblue\")\n",
        "\n",
        "joana=Turtle()\n",
        "joana.shape(\"turtle\")\n",
        "joana.speed(5)\n",
        "\n",
        "for i in range(5):\n",
        "    \n",
        "    joana.fd(100)\n",
        "    joana.rt(144)\n",
        "    \n",
        "jn.mainloop()"
      ],
      "metadata": {
        "id": "t9HKWdNzDJ2z"
      },
      "execution_count": null,
      "outputs": []
    },
    {
      "cell_type": "markdown",
      "source": [
        "6. Sabendo o ângulo interno da ponta de uma estrela, desenhe quatro estrelas em uma janela, com uma certa distância entre elas. Dica: use a função penup() e pendown() do módulo turtle"
      ],
      "metadata": {
        "id": "6FkMufBgDKN8"
      }
    },
    {
      "cell_type": "code",
      "source": [
        "import turtle     \n",
        "from turtle import *\n",
        "\n",
        "jn=Screen()\n",
        "jn.bgcolor(\"lightblue\")\n",
        "\n",
        "joana=Turtle()\n",
        "joana.shape(\"turtle\")\n",
        "joana.speed(150)\n",
        "joana.pensize(2)\n",
        "\n",
        "joana.pu()\n",
        "joana.goto(100,100)\n",
        "joana.pd()\n",
        "joana.color(\"green\")\n",
        "for j in range(3):\n",
        "  joana.pu() \n",
        "  joana.bk(55)\n",
        "  joana.pd() \n",
        "  for i in range(5):\n",
        "    \n",
        "    joana.fd(50)\n",
        "    joana.rt(144)\n",
        "    \n",
        "\n",
        "joana.pu()\n",
        "joana.goto(100,-50)\n",
        "joana.pd()\n",
        "joana.color(\"yellow\")\n",
        "for j in range(3):\n",
        "  joana.pu() \n",
        "  joana.bk(55)\n",
        "  joana.pd()\n",
        "  \n",
        "  for i in range(5):\n",
        "    \n",
        "    joana.fd(50)\n",
        "    joana.rt(144)\n",
        "    \n",
        "jn.mainloop()\n",
        "\n"
      ],
      "metadata": {
        "id": "MJZ1oRDiDMU9"
      },
      "execution_count": null,
      "outputs": []
    },
    {
      "cell_type": "markdown",
      "source": [
        "### Exercícios em preparação para os próximos capítulos\n",
        "\n",
        "1. Escreva uma função chamada `square`, que toma um parâmetro `t`, que é uma `Turtle`. Essa função deve usar o `turtle` para desenhar um quadrado. Escreva uma chamada de função que passe `joana` como argumento para `square` e rode o programa novamente. \n",
        "\n",
        "\n"
      ],
      "metadata": {
        "id": "rZwrUw3jDVIX"
      }
    },
    {
      "cell_type": "code",
      "source": [
        "import turtle     \n",
        "from turtle import *\n",
        "\n",
        "jn=Screen()\n",
        "jn.bgcolor(\"lightgreen\")\n",
        "\n",
        "def square(t):\n",
        "  for i in range(4):\n",
        "    t.forward(100)\n",
        "    t.left(90)\n",
        "    \n",
        "t=Turtle()\n",
        "t.shape(\"turtle\")\n",
        "t.speed(5)\n",
        "t.pensize(2)\n",
        "\n",
        "square(t)\n",
        "\n",
        "jn.mainloop()\n"
      ],
      "metadata": {
        "id": "itEWNnuLDd0T"
      },
      "execution_count": null,
      "outputs": []
    },
    {
      "cell_type": "markdown",
      "source": [
        "2. Adicione um outro parâmetro, chamado `length`, à função `square`. Modifique o corpo da função de tal forma que o comprimento dos lados do quadrado seja `length` e então modifique a chamada da função para que seja passado o segundo argumento. Rode o programa novamente. Teste o seu programa com diversos valores para `length`.\n",
        "\n"
      ],
      "metadata": {
        "id": "9COBXG0jDeLT"
      }
    },
    {
      "cell_type": "code",
      "source": [
        "import turtle     \n",
        "from turtle import *\n",
        "\n",
        "jn=Screen()\n",
        "jn.bgcolor(\"lightgreen\")\n",
        "\n",
        "def square(t):\n",
        "  for i in range(4):\n",
        "    t.forward(100)\n",
        "    t.left(90)\n",
        "    \n",
        "t=Turtle()\n",
        "t.shape(\"turtle\")\n",
        "t.speed(5)\n",
        "t.pensize(4)\n",
        "\n",
        "def squared(u,length):\n",
        "  for i in range(4):\n",
        "    u.forward(length)\n",
        "    u.left(90)\n",
        "    \n",
        "u=Turtle()\n",
        "u.shape(\"turtle\")\n",
        "u.speed(7)\n",
        "u.pensize(2)\n",
        "\n",
        "jn.mainloop()\n",
        "\n",
        "square(t)\n",
        "#t.reset()\n",
        "squared(u,90)\n",
        "#u.reset()\n",
        "squared(u,70)\n",
        "#u.reset()\n",
        "squared(u,35)\n",
        "#u.reset()\n",
        "squared(u,50)\n",
        "#u.reset()\n",
        "squared(u,150)\n",
        "\n",
        "\n"
      ],
      "metadata": {
        "id": "3Dw9WH3qDggc"
      },
      "execution_count": null,
      "outputs": []
    },
    {
      "cell_type": "markdown",
      "source": [
        "3. Faça uma cópia da função `square` e mude o nome para `polygon`. Adicione um outro parâmetro chamado `n` e modifique o corpo da função para que ela desenhe um polígono regular de `n` lados. Dica: Os ângulos externos de um polígono regular de `n` lados são de `360/n` graus.  \n",
        "\n"
      ],
      "metadata": {
        "id": "UAo0qfm5Dg87"
      }
    },
    {
      "cell_type": "code",
      "source": [
        "import turtle     \n",
        "from turtle import *\n",
        "\n",
        "jn=Screen()\n",
        "jn.bgcolor(\"YellowGreen\")\n",
        "\n",
        "\n",
        "def polygon(t,l,n):\n",
        "  for i in range(n):\n",
        "    t.forward(l)\n",
        "    t.left(360/n)\n",
        "   \n",
        "t=Turtle()\n",
        "t.pu()\n",
        "t.goto(-30,-50)\n",
        "t.shape(\"turtle\")\n",
        "t.speed(10)\n",
        "t.pensize(3)\n",
        "t.pd()\n",
        "\n",
        "jn.mainloop()\n",
        "\n",
        "polygon(t,20,10)\n",
        "t.clear()\n",
        "polygon(t,80,8)\n",
        "t.clear()\n",
        "polygon(t,80,20)\n",
        "t.clear()\n",
        "polygon(t,80,20)\n",
        "polygon(t,30,8)\n",
        "polygon(t,80,20)\n",
        "polygon(t,50,8)\n",
        "polygon(t,70,8)"
      ],
      "metadata": {
        "id": "vdLvVla3Djc-"
      },
      "execution_count": null,
      "outputs": []
    },
    {
      "cell_type": "markdown",
      "source": [
        "4. Escreva uma função chamada `circle` que toma como argumento uma `Turtle`, `t`, e um raio, `r`, e desenha um círculo aproximado ao chamar a função `polygon` com `length` e número `n` de lados apropriados. Teste sua função com um intervalo de valores de `r`. Dica: Determine a circunferência do círculo e se certifique que `comprimento * n = circunferência`.\n",
        "\n",
        "\n"
      ],
      "metadata": {
        "id": "RLC59Uo5Dj1I"
      }
    },
    {
      "cell_type": "code",
      "source": [
        "import turtle     \n",
        "from turtle import *\n",
        "\n",
        "import math\n",
        "from math import *\n",
        "\n",
        "jn=Screen()\n",
        "jn.bgcolor(\"YellowGreen\")\n",
        "\n",
        "def polygon(t,l,n):\n",
        "  \n",
        "  for i in range(n):\n",
        "    t.forward(l)\n",
        "    t.left(360/n)\n",
        "    \n",
        "\n",
        "  \n",
        "def circle(t,r):\n",
        "  n=100\n",
        "  c=2*pi*r\n",
        "  l=c/n\n",
        "  polygon(t,l,n)\n",
        "  \n",
        "jn.mainloop()\n",
        "t=Turtle()\n",
        "t.shape(\"turtle\")\n",
        "t.speed(10)\n",
        "t.pensize(3)\n",
        "\n",
        "circle(t,50)\n",
        "polygon(t,5,50)\n"
      ],
      "metadata": {
        "id": "fpZvvoXHDw8O"
      },
      "execution_count": null,
      "outputs": []
    },
    {
      "cell_type": "markdown",
      "source": [
        "5. Faça uma versão mais geral da função `circle`, chamada `arc`, que toma um parâmetro adicional, `angle`, que determina qual a fração do circulo a ser desenhada. `angle` está em unidades de graus, logo quando `angle=360`, a função `arc` deve desenhar um cículo completo."
      ],
      "metadata": {
        "id": "76CbmtaKDybO"
      }
    },
    {
      "cell_type": "code",
      "source": [
        "#Primeira versão.\n",
        "import turtle     \n",
        "from turtle import *\n",
        "\n",
        "import math\n",
        "from math import *\n",
        "\n",
        "jn=Screen()\n",
        "jn.bgcolor(\"YellowGreen\")\n",
        "\n",
        "def lines(t,n,l,a):\n",
        "    \"\"\"Para n linhas a tartaruga anda l unidades de distancia\n",
        "    e gira a graus para esquerda.\n",
        "    \"\"\"    \n",
        "    for i in range(n):\n",
        "        t.fd(int(l))\n",
        "        t.lt(a)\n",
        "\n",
        "def polygon(t,l,n):\n",
        "    a=360/n\n",
        "    lines(t,n,l,a)\n",
        "\n",
        "def arc(t,r,a):\n",
        "    \n",
        "    c=(2*pi*r*a)/360\n",
        "    n=int(c/3)+1 #para ter pelo menos 1 linha\n",
        "    l=c/n\n",
        "    lines(t,n,l,a)\n",
        "\n",
        "def circle(t,r):\n",
        "    arc(t,r,360)\n",
        "\n",
        "jn.mainloop()\n",
        "t=Turtle()\n",
        "t.shape(\"turtle\")\n",
        "t.speed(10)\n",
        "t.pensize(3)\n",
        "\n"
      ],
      "metadata": {
        "id": "dqWGOICND0xM"
      },
      "execution_count": null,
      "outputs": []
    },
    {
      "cell_type": "code",
      "source": [
        "#Segunda versão.\n",
        "import turtle     \n",
        "from turtle import *\n",
        "\n",
        "import math\n",
        "from math import *\n",
        "\n",
        "jn=Screen()\n",
        "jn.bgcolor(\"YellowGreen\")\n",
        "\n",
        "def linesleft(t,n,l,a):\n",
        "    \"\"\"Para n linhas a tartaruga anda l unidades de distancia\n",
        "    e gira a graus para esquerda.\n",
        "    \"\"\"    \n",
        "    for i in range(n):\n",
        "        t.fd(int(l))\n",
        "        t.lt(a)\n",
        "        \n",
        "def polygon(t,l,n):\n",
        "    a=360/n\n",
        "    linesleft(t,n,l,a)\n",
        "    linesright(t,n,l,a)\n",
        "    \n",
        "def arcleft(t,r,a):\n",
        "    \n",
        "    c=(2*pi*r*a)/360\n",
        "    n=int(c/3)+1 #para ter pelo menos 1 linha\n",
        "    l=c/n\n",
        "    a=float(360/n)\n",
        "    linesleft(t,n,l,a)\n",
        "    \n",
        "def arcright(t,r,a):\n",
        "    \n",
        "    c=(2*pi*r*a)/360\n",
        "    n=int(c/3)+1 #para ter pelo menos 1 linha\n",
        "    l=c/n\n",
        "    a=float(360/n)\n",
        "    linesright(t,n,l,a)\n",
        "\n",
        "def circle(t,r):\n",
        "    \n",
        "    arcleft(t,r,360)\n",
        "    arcright(t,r,360)\n",
        "    \n",
        "def linesright(t,n,l,a):\n",
        "    \"\"\"Para n linhas a tartaruga anda l unidades de distancia\n",
        "    e gira a graus para esquerda.\n",
        "    \"\"\"    \n",
        "    for i in range(n):\n",
        "        t.fd(int(l))\n",
        "        t.rt(a)\n",
        "jn.mainloop()\n",
        "\n",
        "t=Turtle()\n",
        "t.speed(.30000)\n",
        "t.shape(\"turtle\")\n",
        "t.pensize(3)\n",
        "\n",
        "circle(t,4)\n",
        "circle(t,40)\n",
        "circle(t,50)\n",
        "circle(t,60)\n",
        "circle(t,70)\n",
        "circle(t,80)\n",
        "circle(t,90)\n",
        "\n",
        "polygon(t,40,6)\n",
        "polygon(t,50,6)\n",
        "polygon(t,70,6)\n",
        "polygon(t,100,6)\n",
        "\n",
        "\n",
        "#circle(t,100)\n",
        "#circle(t,150)"
      ],
      "metadata": {
        "id": "voge2gzdjyY9"
      },
      "execution_count": null,
      "outputs": []
    },
    {
      "cell_type": "code",
      "source": [
        "#Terceira versão.\n",
        "import turtle     \n",
        "from turtle import *\n",
        "\n",
        "import math\n",
        "from math import *\n",
        "\n",
        "jn=Screen()\n",
        "jn.bgcolor(\"YellowGreen\")\n",
        "\n",
        "def linesleft(t,n,l,a):\n",
        "    \"\"\"Para n linhas a tartaruga anda l unidades de distancia\n",
        "    e gira a graus para esquerda.\n",
        "    \"\"\"    \n",
        "    for i in range(n):\n",
        "        t.fd(int(l))\n",
        "        t.lt(a)\n",
        "        \n",
        "def polygon(t,l,n):\n",
        "    a=360/n\n",
        "    linesleft(t,n,l,a)\n",
        "    linesright(t,n,l,a)\n",
        "    \n",
        "def arcleft(t,r,a):\n",
        "    \n",
        "    c=(2*pi*r*a)/360\n",
        "    n=int(c/3)+1 #para ter pelo menos 1 linha\n",
        "    l=c/n\n",
        "    a=float(360/n)\n",
        "    linesleft(t,n,l,a)\n",
        "    \n",
        "def arcright(t,r,a):\n",
        "    \n",
        "    c=(2*pi*r*a)/360\n",
        "    n=int(c/3)+1 #para ter pelo menos 1 linha\n",
        "    l=c/n\n",
        "    a=float(360/n)\n",
        "    linesright(t,n,l,a)\n",
        "\n",
        "def circle(t,r):\n",
        "    \n",
        "    arcleft(t,r,360)\n",
        "    arcright(t,r,360)\n",
        "    \n",
        "def linesright(t,n,l,a):\n",
        "    \"\"\"Para n linhas a tartaruga anda l unidades de distancia\n",
        "    e gira a graus para esquerda.\n",
        "    \"\"\"    \n",
        "    for i in range(n):\n",
        "        t.fd(int(l))\n",
        "        t.rt(a)\n",
        "jn.mainloop()\n",
        "\n",
        "t=Turtle()\n",
        "t.speed(30000)\n",
        "t.shape(\"turtle\")\n",
        "t.color(\"blue\")\n",
        "t.pensize(3)\n",
        "\n",
        "#circle(t,4)\n",
        "#circle(t,40)\n",
        "#circle(t,50)\n",
        "circle(t,60)\n",
        "circle(t,70)\n",
        "#circle(t,80)\n",
        "#ircle(t,90)\n",
        "t=Turtle()\n",
        "t.speed(30000)\n",
        "t.shape(\"turtle\")\n",
        "t.color(\"yellow\")\n",
        "t.pensize(3)\n",
        "polygon(t,40,6)\n",
        "polygon(t,50,6)\n",
        "polygon(t,70,6)\n",
        "polygon(t,100,6)\n",
        "\n",
        "\n",
        "#circle(t,100)\n",
        "#circle(t,150)\n"
      ],
      "metadata": {
        "id": "zESoqYlawdMN"
      },
      "execution_count": null,
      "outputs": []
    }
  ]
}