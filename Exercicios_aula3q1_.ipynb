{
  "nbformat": 4,
  "nbformat_minor": 0,
  "metadata": {
    "colab": {
      "name": "Untitled1.ipynb",
      "provenance": [],
      "authorship_tag": "ABX9TyNDvC5zhwlvv0BsIyfxqw3A",
      "include_colab_link": true
    },
    "kernelspec": {
      "name": "python3",
      "display_name": "Python 3"
    },
    "language_info": {
      "name": "python"
    }
  },
  "cells": [
    {
      "cell_type": "markdown",
      "metadata": {
        "id": "view-in-github",
        "colab_type": "text"
      },
      "source": [
        "<a href=\"https://colab.research.google.com/github/Rensoph/Fernando_Rodrigues/blob/main/Exercicios_aula3q1_.ipynb\" target=\"_parent\"><img src=\"https://colab.research.google.com/assets/colab-badge.svg\" alt=\"Open In Colab\"/></a>"
      ]
    },
    {
      "cell_type": "code",
      "source": [
        "import numpy as np\n",
        "import math\n",
        "from math import *\n"
      ],
      "metadata": {
        "id": "4_YVJI10zG-Y"
      },
      "execution_count": 158,
      "outputs": []
    },
    {
      "cell_type": "markdown",
      "source": [
        "## Exercícios:\n",
        "1. Crie uma funcão que tome um argumento e imprima o valor e o tipo dele.\n"
      ],
      "metadata": {
        "id": "3AaVGRSryhX1"
      }
    },
    {
      "cell_type": "code",
      "source": [
        "def par(n):\n",
        "  x=range(0,n,2)\n",
        "  if n<20:\n",
        "    print(list(x),type(x))\n",
        "  elif n>19:\n",
        "    print(\"só vale para n<20\")\n",
        "  else:\n",
        "    StopIteration\n",
        "    par(n)\n",
        "\n",
        "def impar(n):\n",
        "  x=range(1,n,2)\n",
        "  if n<20:\n",
        "    print(list(x),type(x))\n",
        "  elif n>19:\n",
        "    print(\"a função só vale para n<20\")\n",
        "  else:\n",
        "    StopIteration\n",
        "    impar(n)\n",
        "    "
      ],
      "metadata": {
        "id": "iDX3bDweymrP"
      },
      "execution_count": 256,
      "outputs": []
    },
    {
      "cell_type": "code",
      "source": [
        "par(10)\n",
        "impar(10)"
      ],
      "metadata": {
        "colab": {
          "base_uri": "https://localhost:8080/"
        },
        "id": "azPWMswc8MmM",
        "outputId": "ebad58cb-2f46-449b-ee43-7da479e87f84"
      },
      "execution_count": 257,
      "outputs": [
        {
          "output_type": "stream",
          "name": "stdout",
          "text": [
            "[0, 2, 4, 6, 8] <class 'range'>\n",
            "[1, 3, 5, 7, 9] <class 'range'>\n"
          ]
        }
      ]
    },
    {
      "cell_type": "code",
      "source": [
        "par(19)\n",
        "impar(19)"
      ],
      "metadata": {
        "colab": {
          "base_uri": "https://localhost:8080/"
        },
        "id": "3enN3GSrDHXH",
        "outputId": "f5f5f74c-7c57-4b9f-9a70-72fdd22d6f67"
      },
      "execution_count": 258,
      "outputs": [
        {
          "output_type": "stream",
          "name": "stdout",
          "text": [
            "[0, 2, 4, 6, 8, 10, 12, 14, 16, 18] <class 'range'>\n",
            "[1, 3, 5, 7, 9, 11, 13, 15, 17] <class 'range'>\n"
          ]
        }
      ]
    },
    {
      "cell_type": "code",
      "source": [
        "par(20)\n",
        "impar(20)"
      ],
      "metadata": {
        "colab": {
          "base_uri": "https://localhost:8080/"
        },
        "id": "BBuq-dbsMt29",
        "outputId": "d5d89af8-561c-4972-eb5a-2d41819f8de5"
      },
      "execution_count": 259,
      "outputs": [
        {
          "output_type": "stream",
          "name": "stdout",
          "text": [
            "só vale para n<20\n",
            "a função só vale para n<20\n"
          ]
        }
      ]
    },
    {
      "cell_type": "code",
      "source": [
        "par(25) #dá um erro bem feio resolvido com o comando <StopIteration>\n",
        "impar(25)"
      ],
      "metadata": {
        "colab": {
          "base_uri": "https://localhost:8080/"
        },
        "id": "FoLb9CLwC4vt",
        "outputId": "71145faf-e4b4-4c95-9700-847cc6613e68"
      },
      "execution_count": 260,
      "outputs": [
        {
          "output_type": "stream",
          "name": "stdout",
          "text": [
            "só vale para n<20\n",
            "a função só vale para n<20\n"
          ]
        }
      ]
    },
    {
      "cell_type": "markdown",
      "source": [
        "2. Crie uma função que calcule e imprima velocidade media de um objeto a partir de uma posição inicial, a final e o tempo transcorrido para um objeto em MRU. Também crie uma funcão que calcule e imprima a velocidade de um objeto a partir da aceleração constante e o tempo (MRUA) (p.ex. queda libre).\n",
        "1. Crie uma funcão para calcular o ángulo zenital do sol (da semana passada) tomando como argumento as medidas da altura e o comprimento da sombra.\n",
        "1. Crie uma função que faça a conversão de uma medida inicialmente em milhas para m, e outra para o inverso; uma de horas para segundos, e o inverso. Utilize estas funções para resolver novamente o primeiro exercício da semana passada (da corrida). Se uma pessoa demora 30 minutos em 4 milhas, qual velocidade media em km/h ? e o tempo medio por kilometro?\n",
        "1. Crie funções para calcular os outros exemplos das aulas anteriores: IMC, volume de uma esfera, distancia entre pontos de máximos de difração. Decida quais serão os argumentos e o valor retornado.\n"
      ],
      "metadata": {
        "id": "VztNA4Ixyo0x"
      }
    },
    {
      "cell_type": "code",
      "source": [
        ""
      ],
      "metadata": {
        "id": "gP8RuO0wyuWa"
      },
      "execution_count": null,
      "outputs": []
    }
  ]
}