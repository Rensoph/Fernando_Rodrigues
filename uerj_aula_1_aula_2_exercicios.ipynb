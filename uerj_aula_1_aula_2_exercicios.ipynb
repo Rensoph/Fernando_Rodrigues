{
  "nbformat": 4,
  "nbformat_minor": 0,
  "metadata": {
    "colab": {
      "name": "uerj_aula_1_aula_2_exercicios.ipynb",
      "provenance": [],
      "collapsed_sections": [],
      "authorship_tag": "ABX9TyM5W5epD48abd1A0xsQ+bD8",
      "include_colab_link": true
    },
    "kernelspec": {
      "name": "python3",
      "display_name": "Python 3"
    },
    "language_info": {
      "name": "python"
    }
  },
  "cells": [
    {
      "cell_type": "markdown",
      "metadata": {
        "id": "view-in-github",
        "colab_type": "text"
      },
      "source": [
        "<a href=\"https://colab.research.google.com/github/Rensoph/Fernando_Rodrigues/blob/main/uerj_aula_1_aula_2_exercicios.ipynb\" target=\"_parent\"><img src=\"https://colab.research.google.com/assets/colab-badge.svg\" alt=\"Open In Colab\"/></a>"
      ]
    },
    {
      "cell_type": "markdown",
      "source": [
        "#Exercícios: Aula 1.\n",
        "\n"
      ],
      "metadata": {
        "id": "ErQ9r1KONM8E"
      }
    },
    {
      "cell_type": "markdown",
      "source": [
        "##Exercício 1:\n",
        "#####Escreva na tela do modo prompt: \"mundo, mundo, vasto mundo\"\n",
        "\n",
        "\n"
      ],
      "metadata": {
        "id": "n0lpWVK7-6sH"
      }
    },
    {
      "cell_type": "code",
      "source": [
        "print(\"mundo, mundo, vasto mundo!\")"
      ],
      "metadata": {
        "colab": {
          "base_uri": "https://localhost:8080/"
        },
        "id": "6HUJbvtj_UxL",
        "outputId": "d68a6230-5460-4f10-d596-5653217fc3b4"
      },
      "execution_count": 90,
      "outputs": [
        {
          "output_type": "stream",
          "name": "stdout",
          "text": [
            "mundo, mundo, vasto mundo!\n"
          ]
        }
      ]
    },
    {
      "cell_type": "markdown",
      "source": [
        "## Exercício 2:\n",
        "Imprima na tela a documentação da função *print*"
      ],
      "metadata": {
        "id": "H859jCJL_zNq"
      }
    },
    {
      "cell_type": "code",
      "source": [
        "type(print)"
      ],
      "metadata": {
        "colab": {
          "base_uri": "https://localhost:8080/"
        },
        "id": "RuEpW01qBVgJ",
        "outputId": "2ea28773-cee0-4928-ed9a-bb16a0e775db"
      },
      "execution_count": 91,
      "outputs": [
        {
          "output_type": "execute_result",
          "data": {
            "text/plain": [
              "builtin_function_or_method"
            ]
          },
          "metadata": {},
          "execution_count": 91
        }
      ]
    },
    {
      "cell_type": "code",
      "source": [
        "help(\"print\")"
      ],
      "metadata": {
        "colab": {
          "base_uri": "https://localhost:8080/"
        },
        "id": "u8l5CKDmBoXh",
        "outputId": "b7e5105e-f413-4f7d-c6b0-8d75294c48d9"
      },
      "execution_count": 92,
      "outputs": [
        {
          "output_type": "stream",
          "name": "stdout",
          "text": [
            "Help on built-in function print in module builtins:\n",
            "\n",
            "print(...)\n",
            "    print(value, ..., sep=' ', end='\\n', file=sys.stdout, flush=False)\n",
            "    \n",
            "    Prints the values to a stream, or to sys.stdout by default.\n",
            "    Optional keyword arguments:\n",
            "    file:  a file-like object (stream); defaults to the current sys.stdout.\n",
            "    sep:   string inserted between values, default a space.\n",
            "    end:   string appended after the last value, default a newline.\n",
            "    flush: whether to forcibly flush the stream.\n",
            "\n"
          ]
        }
      ]
    },
    {
      "cell_type": "markdown",
      "source": [
        "##Exercício 3:\n",
        "Inicie o interpretador Python e use-o como uma calculadora. A sintaxe do Python para operações matemáticas é quase igual à notação matemática padrão:\n",
        "\n",
        "* adição: +\n",
        "* -subtração: -\n",
        "* -divisão: /\n",
        "* -multiplicação: *\n",
        "\n",
        "**Se você fizer uma corrida de 10 quilômetros em 43 minutos e 30 segundos, qual será seu tempo médio por milha? Qual é a sua velocidade média em milhas por hora? (Dica: há 1,61 quilômetros em uma milha).**"
      ],
      "metadata": {
        "id": "_UyOpMhvEdzP"
      }
    },
    {
      "cell_type": "markdown",
      "source": [
        "Se $Δs=10km$ e $Δt= 43min$ e $30s $, então, $v=\\frac{Δs}{Δt}$. Mas $1mi=1,61km$.\n",
        "\n",
        "Para se calcular a velocidade em, $\\frac{mi}{h}$, passa $km$ para $mi$ e $min$ com $seg$ para $h$.  "
      ],
      "metadata": {
        "id": "vlWglV6oFlBB"
      }
    },
    {
      "cell_type": "code",
      "source": [
        "import math\n",
        "from math import *\n",
        "Δs=10/1.61\n",
        "Δt=(43/60) +(30/3600)\n",
        "v=Δs/Δt\n",
        "print(\"Fazendo as conversões de unidades calcula-se que v= %.4f\"%v,\"mi/h\")\n"
      ],
      "metadata": {
        "colab": {
          "base_uri": "https://localhost:8080/"
        },
        "id": "Hi0DRwpSJH0L",
        "outputId": "e70c843d-3896-41f0-8cc8-dabe912a736f"
      },
      "execution_count": 93,
      "outputs": [
        {
          "output_type": "stream",
          "name": "stdout",
          "text": [
            "Fazendo as conversões de unidades calcula-se que v= 8.5671 mi/h\n"
          ]
        }
      ]
    },
    {
      "cell_type": "markdown",
      "source": [
        "##Exercício da pagína: \n",
        "<http://dfnae.fis.uerj.br/twiki/bin/view/DFNAE/IntroPython#Aula_1>\n",
        "\n"
      ],
      "metadata": {
        "id": "clXSyY8XMhKN"
      }
    },
    {
      "cell_type": "markdown",
      "source": [
        "###Exercício 2:\n",
        "Desde sua varanda você escuta o som do primeiro fogo artificial do reveillon 3 segundos depois de ver a luz, qual a distância? (o som tem velocidade de, $343m/s$ e a luz, $3\\times 10^8 m/s$)."
      ],
      "metadata": {
        "id": "Ap52M1seM6-L"
      }
    },
    {
      "cell_type": "markdown",
      "source": [
        "Seja:\n",
        "* $\\Delta s_l=v_l\\Delta t_l$, para luz.\n",
        "* $\\Delta s_s=v_s\\Delta t_s$, para o som.\n",
        "Se $\\Delta t=3s $ é o tempo entre som e luz. Para saber a distância da queda do raio até minha varanda, então,\n",
        "\n",
        "$\\Delta t=\\Delta t_s-\\Delta t_l →\\Delta t=\\frac{\\Delta s_s}{v_s}-\\frac{\\Delta s_l}{v_l}$, mas, $\\Delta s_s=\\Delta s_l=\\Delta s$, portanto:\n",
        "\n",
        "$\\Delta t=\\frac{(v_l-v_s)\\Delta s}{v_l v_s} → \\Delta s=\\frac{v_l v_s}{v_l-v_s}\\Delta t$\n",
        "\n",
        "Introduzindo os valores:\n"
      ],
      "metadata": {
        "id": "pGqaDihRNuFM"
      }
    },
    {
      "cell_type": "code",
      "source": [
        "vluz=3e8\n",
        "vsom=343\n",
        "Δt=3\n",
        "Δs=((vluz*vsom*Δt)/(vluz-vsom))/1000\n",
        "print(\"O raio caiu a %.2f\"%Δs,\"Km da minha varanda.\")\n",
        "\n"
      ],
      "metadata": {
        "colab": {
          "base_uri": "https://localhost:8080/"
        },
        "id": "OdDv9nS7da0a",
        "outputId": "ffa58169-8e54-4114-89dc-1aa0a5c05328"
      },
      "execution_count": 94,
      "outputs": [
        {
          "output_type": "stream",
          "name": "stdout",
          "text": [
            "O raio caiu a 1.03 Km da minha varanda.\n"
          ]
        }
      ]
    },
    {
      "cell_type": "markdown",
      "source": [
        "##Exercício 3:\n",
        "Ache os zeros da função: $y = 3x^2 - 4x -10$. "
      ],
      "metadata": {
        "id": "aYcE2vmMfnNy"
      }
    },
    {
      "cell_type": "code",
      "source": [
        "#báskaras\n",
        "a=3\n",
        "b=-4\n",
        "c=-10\n",
        "x1=(-b+sqrt(b**2-4*a*c))/(2*a)\n",
        "x2=(-b-sqrt(b**2-4*a*c))/(2*a)\n",
        "if x1==x2:\n",
        " print(\"os zeros de y(x) são reais e iguais a\",x1)\n",
        "else:\n",
        " print(\"os zeros de y(x) são x1=\",x1,\"e x2=\",x2)"
      ],
      "metadata": {
        "colab": {
          "base_uri": "https://localhost:8080/"
        },
        "id": "LRMQ49M2gKMR",
        "outputId": "53dfacef-ecd2-403c-c4fb-1216849b9560"
      },
      "execution_count": 95,
      "outputs": [
        {
          "output_type": "stream",
          "name": "stdout",
          "text": [
            "os zeros de y(x) são x1= 2.610317298281767 e x2= -1.2769839649484336\n"
          ]
        }
      ]
    },
    {
      "cell_type": "markdown",
      "source": [
        "##Exercício 4:\n",
        "Se, ao meio-dia, a sombra de um poste de 5 m de altura tem apenas 50 cm de comprimento no chão, qual o ângulo zenital do sol?\n",
        "\n",
        "Fazendo: $θ$, em radianos, e, $α$, graus.\n"
      ],
      "metadata": {
        "id": "9okveBxTpPxd"
      }
    },
    {
      "cell_type": "code",
      "source": [
        "x=5\n",
        "y=50e-2\n",
        "m=y/x\n",
        "θ=atan(m)\n",
        "#m1=tan(θ)\n",
        "#t1=tan(45)\n",
        "#t2=tan(pi/4)\n",
        "α=(180*θ)/pi\n",
        "#Verificação das unidades associadas aos cáculos.\n",
        "#print(x,y,m,θ,m1,t1,t2,pi,α,sep=\"|\")\n",
        "print(\"O ângulo zenital formado é: %.5f\"%θ,\"radianos e %.5f\"%α,\"graus\")"
      ],
      "metadata": {
        "colab": {
          "base_uri": "https://localhost:8080/"
        },
        "id": "DVGe_W9GpqJ3",
        "outputId": "04825083-416b-4650-85d8-e412060ccb68"
      },
      "execution_count": 96,
      "outputs": [
        {
          "output_type": "stream",
          "name": "stdout",
          "text": [
            "O ângulo zenital formado é: 0.09967 radianos e 5.71059 graus\n"
          ]
        }
      ]
    },
    {
      "cell_type": "markdown",
      "source": [
        "##Exercício 5:\n",
        "\n",
        "Calcule o seu IMC: $IMC = M / A^2$ (com a massa em Kg e a altura em metros). Um valor saudável estara --em geral-- entre 20-25. Um bebê de 6 meses \"gorducho\" tem 70 cm de \"comprimento\" e 11 kg de massa, qual o IMC dele?"
      ],
      "metadata": {
        "id": "64AosuH2xHmJ"
      }
    },
    {
      "cell_type": "code",
      "source": [
        "h=70e-2\n",
        "m=11\n",
        "r=m/(h**2)\n",
        "print(' O IMC do bebé é de %.2f'%r,'.Logo, este não é um bebê \"gorducho\", e, sim, um bebê saudável.')"
      ],
      "metadata": {
        "colab": {
          "base_uri": "https://localhost:8080/"
        },
        "id": "OHBaHTNtyOcf",
        "outputId": "99db3ed2-970f-4501-a3dc-3651858278e8"
      },
      "execution_count": 97,
      "outputs": [
        {
          "output_type": "stream",
          "name": "stdout",
          "text": [
            " O IMC do bebé é de 22.45 .Logo, este não é um bebê \"gorducho\", e, sim, um bebê saudável.\n"
          ]
        }
      ]
    },
    {
      "cell_type": "markdown",
      "source": [
        "##Exercício 6:\n",
        "\n",
        "Calcule a velocidade final de um objeto em queda livre a partir de 3 metros de altura (sem resistencia do ar). Calcule o tempo que esse objeto demora para cair."
      ],
      "metadata": {
        "id": "Bq6u9vOn-gD6"
      }
    },
    {
      "cell_type": "code",
      "source": [
        "#Obs: o eixo y aponta para baixo.\n",
        "#v=v0+g*t, t0=0\n",
        "#y-y0=h\n",
        "#y=y0+v0*t+(g/2)*t**2\n",
        "#dadas as condições iniciais acima:\n",
        "#t=v/g\n",
        "#t=sqrt((2*h)/(g))\n",
        "#então\n",
        "#v=g*sqrt((2*h)/g)=sqrt(2*g*h)\n",
        "#Torricelli:\n",
        "g=9.8\n",
        "h=3\n",
        "v=sqrt(2*g*h)\n",
        "t=v/g\n",
        "V=v*3.6\n",
        "print(\"Velocidade final v=%.2f\"%v,\"m/s, ou seja, %.2f\"%V,\"km/h, e a duração da queda é de %.2f\"%t,\"segundos.\")"
      ],
      "metadata": {
        "colab": {
          "base_uri": "https://localhost:8080/"
        },
        "id": "5lXlFeB5-uKm",
        "outputId": "28d8cfd5-184f-4b76-9aa5-ba471f7d5d80"
      },
      "execution_count": 98,
      "outputs": [
        {
          "output_type": "stream",
          "name": "stdout",
          "text": [
            "Velocidade final v=7.67 m/s, ou seja, 27.61 km/h, e a duração da queda é de 0.78 segundos.\n"
          ]
        }
      ]
    },
    {
      "cell_type": "markdown",
      "source": [
        "#Exercícios: Aula 2.\n",
        "\n"
      ],
      "metadata": {
        "id": "-hdA7YujPiS8"
      }
    },
    {
      "cell_type": "markdown",
      "source": [
        "##Exercício 1:\n",
        "Considere as seguintes declarações de atribuições:\n",
        "\n",
        "\n",
        "\n",
        "* largura = 17\n",
        "* -altura = 12.0\n",
        "* -delimitador = \".\"\n",
        "\n",
        "\n",
        "Para cada uma das expressões a seguir, escreva o valor das expressões e o tipo (do valor da expressão):\n",
        "\n",
        "* largura/2\n",
        "* -largura/2.0\n",
        "* -altura/3\n",
        "* -1 + 2 * 5\n",
        "* -delimitador*5\n",
        "\n",
        "Use o interpretador de python para verificar suas respostas."
      ],
      "metadata": {
        "id": "JofaJisjP-pO"
      }
    },
    {
      "cell_type": "code",
      "source": [
        "#Valores atribuídos\n",
        "l=17\n",
        "a=12.0\n",
        "#resultados desejados\n",
        "l2=l/2\n",
        "l20=l/2.0\n",
        "a3=a/3\n",
        "b=1+2*5\n",
        "sep=\".\"*5\n",
        "#print dos tipos de resultados e seus tipos\n",
        "print(l2,l20,a3,b,sep)\n",
        "print(\"os tipos de expressões são\",type(l2),type(l20),type(a3),type(b),type(sep),sep=\".\")"
      ],
      "metadata": {
        "colab": {
          "base_uri": "https://localhost:8080/"
        },
        "id": "yB0sMtLdSexe",
        "outputId": "7b907149-350a-49fa-c812-d0eb879a635a"
      },
      "execution_count": 99,
      "outputs": [
        {
          "output_type": "stream",
          "name": "stdout",
          "text": [
            "8.5 8.5 4.0 11 .....\n",
            "os tipos de expressões são.<class 'float'>.<class 'float'>.<class 'float'>.<class 'int'>.<class 'str'>\n"
          ]
        }
      ]
    },
    {
      "cell_type": "markdown",
      "source": [
        "##Exercício 2:\n",
        "O volume de uma esfera de raio r é $\\frac{4}{3}\\pi r^3$.\n",
        " \n",
        "\n",
        "Qual é o volume de uma esfera de raio 5?"
      ],
      "metadata": {
        "id": "Qkvljh0jsBNz"
      }
    },
    {
      "cell_type": "code",
      "source": [
        "r=5\n",
        "V=(4*pi*r**3)/3\n",
        "print(\"O Volume dessa esfera é V=%.4f\"%V)\n",
        "\n"
      ],
      "metadata": {
        "colab": {
          "base_uri": "https://localhost:8080/"
        },
        "id": "hpJwlbfmsXZP",
        "outputId": "e578b6b8-7772-4fe4-db9e-ca3da4cdf0c0"
      },
      "execution_count": 100,
      "outputs": [
        {
          "output_type": "stream",
          "name": "stdout",
          "text": [
            "O Volume dessa esfera é V=523.5988\n"
          ]
        }
      ]
    },
    {
      "cell_type": "markdown",
      "source": [
        "##Exercício 3:\n",
        "Suponha que o preço de um livro seja 24.95 reais, porém as livrarias têm desconto de 40%. Os custos de envio são de 3.00 reais para o primeiro livro e 0.75 reais para os livros adicionais. Qual é o custo total da compra de 60 livros?"
      ],
      "metadata": {
        "id": "bt3PfF3DvZD1"
      }
    },
    {
      "cell_type": "code",
      "source": [
        "#preço de um livro\n",
        "p=24.95\n",
        "#desconto\n",
        "d=0.4\n",
        "#custo de envio\n",
        "c1=3.00\n",
        "cn=0.75\n",
        "#custo para 60 livros. Respeitando condições.\n",
        "p1=p*(1-d)+c1\n",
        "pn=p*(1-d)+cn\n",
        "C=p1+59*pn\n",
        "print(\"O 1º livro custará c1=R$%.2f\"%p1,\"os demais livros custarão cada um cn=R$%.2f\"%pn,\"o custo para 60 livros será de C=R$%.2f\"%C)"
      ],
      "metadata": {
        "colab": {
          "base_uri": "https://localhost:8080/"
        },
        "id": "j-Bn3HIwvpeZ",
        "outputId": "ade150db-e6aa-499a-9596-097db99080f0"
      },
      "execution_count": 101,
      "outputs": [
        {
          "output_type": "stream",
          "name": "stdout",
          "text": [
            "O 1º livro custará c1=R$17.97 os demais livros custarão cada um cn=R$15.72 o custo para 60 livros será de C=R$945.45\n"
          ]
        }
      ]
    },
    {
      "cell_type": "markdown",
      "source": [
        "##Exercício 4:\n",
        "Um laser vermelho (com comprimento de onda  $\\lambda=632.8nm$) incide em uma fenda dupla produzindo um padrão de interferência com franjas claras e escuras, em um anteparo situado a uma distância $D = 1.98 m$ da fenda. Calcule a distância $\\Delta y$  entre dois máximos consecutivos de interferência. Considere o espaçamento entre as fendas,$d$, como sendo igual a $0.250 mm$. Dica: a distância entre dois máximos de interferência consecutivos pode ser aproximada por $\\Delta y=\\frac{\\lambda D}{d}$.\n",
        " \n",
        "."
      ],
      "metadata": {
        "id": "htsVKCsu0JyD"
      }
    },
    {
      "cell_type": "code",
      "source": [
        "λ=632.8e-9\n",
        "D=1.98\n",
        "d=0.250e-3\n",
        "Δy=((λ*D)/d)*100\n",
        "print(λ,D,d,\"A distância Δy entre os máximos são de %.3f\"%Δy,\"cm.\")\n",
        "\n"
      ],
      "metadata": {
        "colab": {
          "base_uri": "https://localhost:8080/"
        },
        "id": "qvrwVC0f1gUD",
        "outputId": "3a19d843-ee7a-41d9-95f6-c0c22116cc7f"
      },
      "execution_count": 102,
      "outputs": [
        {
          "output_type": "stream",
          "name": "stdout",
          "text": [
            "6.328e-07 1.98 0.00025 A distância Δy entre os máximos são de 0.501 cm.\n"
          ]
        }
      ]
    }
  ]
}