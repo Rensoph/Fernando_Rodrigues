{
  "nbformat": 4,
  "nbformat_minor": 0,
  "metadata": {
    "colab": {
      "name": "uerj_aula_1_aula_2_exercicios.ipynb",
      "provenance": [],
      "collapsed_sections": [],
      "authorship_tag": "ABX9TyOyQpsvkLfK25NmUqF70Ptm",
      "include_colab_link": true
    },
    "kernelspec": {
      "name": "python3",
      "display_name": "Python 3"
    },
    "language_info": {
      "name": "python"
    }
  },
  "cells": [
    {
      "cell_type": "markdown",
      "metadata": {
        "id": "view-in-github",
        "colab_type": "text"
      },
      "source": [
        "<a href=\"https://colab.research.google.com/github/Rensoph/Fernando_Rodrigues/blob/main/uerj_aula_1_aula_2_exercicios.ipynb\" target=\"_parent\"><img src=\"https://colab.research.google.com/assets/colab-badge.svg\" alt=\"Open In Colab\"/></a>"
      ]
    },
    {
      "cell_type": "markdown",
      "source": [
        "##Exercícios: Aula 1.\n",
        "\n"
      ],
      "metadata": {
        "id": "ErQ9r1KONM8E"
      }
    },
    {
      "cell_type": "markdown",
      "source": [
        "###Exercício 1:\n",
        "#####Escreva na tela do modo prompt: \"mundo, mundo, vasto mundo\"\n",
        "\n",
        "\n"
      ],
      "metadata": {
        "id": "n0lpWVK7-6sH"
      }
    },
    {
      "cell_type": "code",
      "source": [
        "print(\"mundo, mundo, vasto mundo!\")"
      ],
      "metadata": {
        "colab": {
          "base_uri": "https://localhost:8080/"
        },
        "id": "6HUJbvtj_UxL",
        "outputId": "2ca1dabb-a33d-4c5e-eede-92e52e3614a9"
      },
      "execution_count": null,
      "outputs": [
        {
          "output_type": "stream",
          "name": "stdout",
          "text": [
            "mundo, mundo, vasto mundo!\n"
          ]
        }
      ]
    },
    {
      "cell_type": "markdown",
      "source": [
        "## Exercício 2:\n",
        "Imprima na tela a documentação da função *print*"
      ],
      "metadata": {
        "id": "H859jCJL_zNq"
      }
    },
    {
      "cell_type": "code",
      "source": [
        "type(print)"
      ],
      "metadata": {
        "colab": {
          "base_uri": "https://localhost:8080/"
        },
        "id": "RuEpW01qBVgJ",
        "outputId": "d0c4a554-9b4d-4508-90e3-edbf3286916a"
      },
      "execution_count": null,
      "outputs": [
        {
          "output_type": "execute_result",
          "data": {
            "text/plain": [
              "builtin_function_or_method"
            ]
          },
          "metadata": {},
          "execution_count": 7
        }
      ]
    },
    {
      "cell_type": "code",
      "source": [
        "help(\"print\")"
      ],
      "metadata": {
        "colab": {
          "base_uri": "https://localhost:8080/"
        },
        "id": "u8l5CKDmBoXh",
        "outputId": "5e3da8d6-cb93-4cee-8344-0f7822f9d69b"
      },
      "execution_count": null,
      "outputs": [
        {
          "output_type": "stream",
          "name": "stdout",
          "text": [
            "Help on built-in function print in module builtins:\n",
            "\n",
            "print(...)\n",
            "    print(value, ..., sep=' ', end='\\n', file=sys.stdout, flush=False)\n",
            "    \n",
            "    Prints the values to a stream, or to sys.stdout by default.\n",
            "    Optional keyword arguments:\n",
            "    file:  a file-like object (stream); defaults to the current sys.stdout.\n",
            "    sep:   string inserted between values, default a space.\n",
            "    end:   string appended after the last value, default a newline.\n",
            "    flush: whether to forcibly flush the stream.\n",
            "\n"
          ]
        }
      ]
    },
    {
      "cell_type": "markdown",
      "source": [
        "##Exercício 3:\n",
        "Inicie o interpretador Python e use-o como uma calculadora. A sintaxe do Python para operações matemáticas é quase igual à notação matemática padrão:\n",
        "\n",
        "* adição: +\n",
        "-subtração: -\n",
        "-divisão: /\n",
        "-multiplicação: *\n",
        "\n",
        "**Se você fizer uma corrida de 10 quilômetros em 43 minutos e 30 segundos, qual será seu tempo médio por milha? Qual é a sua velocidade média em milhas por hora? (Dica: há 1,61 quilômetros em uma milha).**"
      ],
      "metadata": {
        "id": "_UyOpMhvEdzP"
      }
    },
    {
      "cell_type": "markdown",
      "source": [
        "Se $Δs=10km$ e $Δt= 43min$ e $30s $, então, $v=\\frac{Δs}{Δt}$. Mas $1mi=1,61km$.\n",
        "\n",
        "Para se calcular a velocidade em, $\\frac{mi}{h}$, passa $km$ para $mi$ e $min$ com $seg$ para $h$.  "
      ],
      "metadata": {
        "id": "vlWglV6oFlBB"
      }
    },
    {
      "cell_type": "code",
      "source": [
        "import math\n",
        "from math import *\n",
        "Δs=10/1.61\n",
        "Δt=(43/60) +(30/3600)\n",
        "v=Δs/Δt\n",
        "print(\"Fazendo as conversões de unidades calcula-se que v= %.4f\"%v,\"mi/h\")\n"
      ],
      "metadata": {
        "colab": {
          "base_uri": "https://localhost:8080/"
        },
        "id": "Hi0DRwpSJH0L",
        "outputId": "788ba577-7262-47f5-f8d2-962cf5dfaa6a"
      },
      "execution_count": null,
      "outputs": [
        {
          "output_type": "stream",
          "name": "stdout",
          "text": [
            "Fazendo as conversões de unidades calcula-se que v= 8.5671 mi/h\n"
          ]
        }
      ]
    },
    {
      "cell_type": "markdown",
      "source": [
        "#Exercícios: Aula 2\n",
        "\n"
      ],
      "metadata": {
        "id": "-hdA7YujPiS8"
      }
    },
    {
      "cell_type": "markdown",
      "source": [
        "##Exercício 1:\n",
        "Considere as seguintes declarações de atribuições:\n",
        "\n",
        "\n",
        "\n",
        "* largura = 17\n",
        "-altura = 12.0\n",
        "-delimitador = \".\"\n",
        "\n",
        "\n",
        "Para cada uma das expressões a seguir, escreva o valor das expressões e o tipo (do valor da expressão):\n",
        "\n",
        "* largura/2\n",
        "-largura/2.0\n",
        "-altura/3\n",
        "-1 + 2 * 5\n",
        "-delimitador*5\n",
        "\n",
        "Use o interpretador de python para verificar suas respostas."
      ],
      "metadata": {
        "id": "JofaJisjP-pO"
      }
    },
    {
      "cell_type": "code",
      "source": [
        "#Valores atribuídos\n",
        "l=17\n",
        "a=12.0\n",
        "#resultados desejados\n",
        "l2=l/2\n",
        "l20=l/2.0\n",
        "a3=a/3\n",
        "b=1+2*5\n",
        "sep=\".\"*5\n",
        "#print dos tipos de resultados e seus tipos\n",
        "print(l2,l20,a3,b,sep)\n",
        "print(\"os tipos de expressões são\",type(l2),type(l20),type(a3),type(b),type(sep),sep=\".\")"
      ],
      "metadata": {
        "colab": {
          "base_uri": "https://localhost:8080/"
        },
        "id": "yB0sMtLdSexe",
        "outputId": "03d91315-b5be-4669-d22e-5a2b75e9df3b"
      },
      "execution_count": null,
      "outputs": [
        {
          "output_type": "stream",
          "name": "stdout",
          "text": [
            "8.5 8.5 4.0 11 .....\n",
            "os tipos de expressões são.<class 'float'>.<class 'float'>.<class 'float'>.<class 'int'>.<class 'str'>\n"
          ]
        }
      ]
    },
    {
      "cell_type": "markdown",
      "source": [
        "##Exercício 2:\n",
        "O volume de uma esfera de raio r é $\\frac{4}{3}\\pi r^3$.\n",
        " \n",
        "\n",
        "Qual é o volume de uma esfera de raio 5?"
      ],
      "metadata": {
        "id": "Qkvljh0jsBNz"
      }
    },
    {
      "cell_type": "code",
      "source": [
        "r=5\n",
        "V=(4*pi*r**3)/3\n",
        "print(\"O Volume dessa esfera é V=%.4f\"%V)\n",
        "\n"
      ],
      "metadata": {
        "colab": {
          "base_uri": "https://localhost:8080/"
        },
        "id": "hpJwlbfmsXZP",
        "outputId": "3aad7345-5db0-402b-ed91-b6c73da1a720"
      },
      "execution_count": null,
      "outputs": [
        {
          "output_type": "stream",
          "name": "stdout",
          "text": [
            "O Volume dessa esfera é V=523.5988\n"
          ]
        }
      ]
    },
    {
      "cell_type": "markdown",
      "source": [
        "##Exercício 3:\n",
        "Suponha que o preço de um livro seja 24.95 reais, porém as livrarias têm desconto de 40%. Os custos de envio são de 3.00 reais para o primeiro livro e 0.75 reais para os livros adicionais. Qual é o custo total da compra de 60 livros?"
      ],
      "metadata": {
        "id": "bt3PfF3DvZD1"
      }
    },
    {
      "cell_type": "code",
      "source": [
        "#preço de um livro\n",
        "p=24.95\n",
        "#desconto\n",
        "d=0.4\n",
        "#custo de envio\n",
        "c1=3.00\n",
        "cn=0.75\n",
        "#custo para 60 livros. Respeitando condições.\n",
        "p1=p*(1-d)+c1\n",
        "pn=p*(1-d)+cn\n",
        "C=p1+59*pn\n",
        "print(\"O 1º livro custará c1=R$%.2f\"%p1,\"os demais livros custarão cada um cn=R$%.2f\"%pn,\"o custo para 60 livros será de C=R$%.2f\"%C)"
      ],
      "metadata": {
        "colab": {
          "base_uri": "https://localhost:8080/"
        },
        "id": "j-Bn3HIwvpeZ",
        "outputId": "d45c1a49-0916-46a5-a0db-b4d3ee960500"
      },
      "execution_count": null,
      "outputs": [
        {
          "output_type": "stream",
          "name": "stdout",
          "text": [
            "O 1º livro custará c1=R$17.97 os demais livros custarão cada um cn=R$15.72 o custo para 60 livros será de C=R$945.45\n"
          ]
        }
      ]
    },
    {
      "cell_type": "markdown",
      "source": [
        "##Exercício 4:\n",
        "Um laser vermelho (com comprimento de onda  $\\lambda=632.8nm$) incide em uma fenda dupla produzindo um padrão de interferência com franjas claras e escuras, em um anteparo situado a uma distância $D = 1.98 m$ da fenda. Calcule a distância $\\Delta y$  entre dois máximos consecutivos de interferência. Considere o espaçamento entre as fendas,$d$, como sendo igual a $0.250 mm$. Dica: a distância entre dois máximos de interferência consecutivos pode ser aproximada por $\\Delta y=\\frac{\\lambda D}{d}$.\n",
        " \n",
        "."
      ],
      "metadata": {
        "id": "htsVKCsu0JyD"
      }
    },
    {
      "cell_type": "code",
      "source": [
        "λ=632.8e-9\n",
        "D=1.98\n",
        "d=0.250e-3\n",
        "Δy=((λ*D)/d)*100\n",
        "print(λ,D,d,\"A distância Δy entre os máximos são de %.3f\"%Δy,\"cm.\")\n",
        "\n"
      ],
      "metadata": {
        "colab": {
          "base_uri": "https://localhost:8080/"
        },
        "id": "qvrwVC0f1gUD",
        "outputId": "32a72f37-d93b-4cf3-9b8b-d469f597156b"
      },
      "execution_count": null,
      "outputs": [
        {
          "output_type": "stream",
          "name": "stdout",
          "text": [
            "6.328e-07 1.98 0.00025 A distância Δy entre os máximos são de 0.501 cm.\n"
          ]
        }
      ]
    }
  ]
}